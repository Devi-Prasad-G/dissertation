{
  "nbformat": 4,
  "nbformat_minor": 0,
  "metadata": {
    "colab": {
      "name": "rat_post.ipynb",
      "provenance": [],
      "collapsed_sections": [
        "-HCyoNwNHkr_"
      ]
    },
    "kernelspec": {
      "name": "python3",
      "display_name": "Python 3"
    },
    "language_info": {
      "name": "python"
    }
  },
  "cells": [
    {
      "cell_type": "code",
      "source": [
        "import scipy.io\n",
        "from matplotlib import pyplot as plt\n",
        "import numpy as np\n",
        "import pandas as pd\n",
        "from sklearn.model_selection import train_test_split"
      ],
      "metadata": {
        "id": "3lACrpZZar9H"
      },
      "execution_count": null,
      "outputs": []
    },
    {
      "cell_type": "code",
      "source": [
        "data = scipy.io.loadmat(\"/content/drive/MyDrive/dissertation/LearningData.mat\")"
      ],
      "metadata": {
        "id": "d6tfD5MN0XGc"
      },
      "execution_count": null,
      "outputs": []
    },
    {
      "cell_type": "code",
      "source": [
        "r = data['rmat_post'][0]\n",
        "print(r.shape)\n",
        "print(r[0].shape,r[1].shape,r[2].shape)"
      ],
      "metadata": {
        "id": "RjH7GpDUS6Ig",
        "colab": {
          "base_uri": "https://localhost:8080/"
        },
        "outputId": "3100ca57-2e4f-4f99-8239-b464b7464090"
      },
      "execution_count": null,
      "outputs": [
        {
          "output_type": "stream",
          "name": "stdout",
          "text": [
            "(3,)\n",
            "(135, 138, 57) (120, 138, 57) (254, 138, 57)\n"
          ]
        }
      ]
    },
    {
      "cell_type": "code",
      "source": [
        "#create new dataset by combining all experiments for each animal\n",
        "def create_dataset(exp):\n",
        "  vertical = exp[0]\n",
        "  new_v = np.take(vertical, list(range(8,25)), axis = 2) #taking values from -1 to 1 sec using tsamples array\n",
        "  angled = exp[1]\n",
        "  new_a = np.take(angled, list(range(8,25)), axis = 2) #taking values from -1 to 1 sec using tsamples array\n",
        "  gray_corridor = exp[2]\n",
        "  new_g = np.take(gray_corridor, list(range(8,25)), axis = 2) #taking values from -1 to 1 sec using tsamples array\n",
        "  #creating y labels 0-vertical, 1-angled, 2-gray corridor\n",
        "  y = [0 for i in range(new_v.shape[0])] + [1 for i in range(new_a.shape[0])] + [2 for i in range(new_g.shape[0])]\n",
        "  combine = np.concatenate((new_v,new_a,new_g))\n",
        "  #changing axis as required by lstm (samples, time, features)\n",
        "  changed_axis = np.transpose(combine,axes = [0,2,1])\n",
        "  return changed_axis,np.array(y)"
      ],
      "metadata": {
        "id": "9f0YsLgS8Qgh"
      },
      "execution_count": null,
      "outputs": []
    },
    {
      "cell_type": "code",
      "source": [
        "#finding nan values in X and dropping them\n",
        "def remove_empty(X,y):\n",
        "  print(\"total no of empty values in X = \",np.isnan(X).sum())\n",
        "  print(\"old shape = \", X.shape, y.shape)\n",
        "  trials_with_nan = []\n",
        "  for ind,i in enumerate(X):\n",
        "    if np.isnan(i).sum()!=0:\n",
        "      print(\"trail = \", ind, \" empty values = \", np.isnan(i).sum())\n",
        "      trials_with_nan.append(ind)\n",
        "  X = np.delete(X, trials_with_nan, axis = 0) #dropping the trials with empty values from the dataset\n",
        "  y = np.delete(y, trials_with_nan)\n",
        "  print(\"new X shape = \", X.shape,y.shape)\n",
        "  return X,y"
      ],
      "metadata": {
        "id": "O2ghkTvMmeYk"
      },
      "execution_count": null,
      "outputs": []
    },
    {
      "cell_type": "code",
      "source": [
        "#normalizing by finding max and minimum for all neurons in later part can try based on cell type\n",
        "def normalize(X,y):\n",
        "  xmax,xmin = np.max(X.flatten()),np.min(X.flatten())\n",
        "  print(xmax,xmin)\n",
        "  fun = lambda t: (t-xmin)/(xmax-xmin)\n",
        "  xfun = np.vectorize(fun)\n",
        "  x = xfun(X)\n",
        "  return x,y"
      ],
      "metadata": {
        "id": "fMTDtVuSlQhQ"
      },
      "execution_count": null,
      "outputs": []
    },
    {
      "cell_type": "code",
      "source": [
        "X,y = create_dataset(r)"
      ],
      "metadata": {
        "id": "zrTg69g_BWpX"
      },
      "execution_count": null,
      "outputs": []
    },
    {
      "cell_type": "code",
      "source": [
        "print(X.shape,y.shape)"
      ],
      "metadata": {
        "colab": {
          "base_uri": "https://localhost:8080/"
        },
        "id": "qgoPGHH3He82",
        "outputId": "5c53c855-58ca-4773-9b2a-f02174d7fa70"
      },
      "execution_count": null,
      "outputs": [
        {
          "output_type": "stream",
          "name": "stdout",
          "text": [
            "(509, 17, 138) (509,)\n"
          ]
        }
      ]
    },
    {
      "cell_type": "code",
      "source": [
        "X,y = remove_empty(X,y)\n",
        "print(np.isnan(X).sum())"
      ],
      "metadata": {
        "colab": {
          "base_uri": "https://localhost:8080/"
        },
        "id": "tLB8-KNdep9G",
        "outputId": "bd7877b8-2010-4084-a696-41a6f458b38f"
      },
      "execution_count": null,
      "outputs": [
        {
          "output_type": "stream",
          "name": "stdout",
          "text": [
            "total no of empty values in X =  0\n",
            "old shape =  (509, 17, 138) (509,)\n",
            "new X shape =  (509, 17, 138) (509,)\n",
            "0\n"
          ]
        }
      ]
    },
    {
      "cell_type": "code",
      "source": [
        "#normalizing values between 0 and 1\n",
        "X,y = normalize(X,y)"
      ],
      "metadata": {
        "colab": {
          "base_uri": "https://localhost:8080/"
        },
        "id": "6vfLexK2ivhG",
        "outputId": "dc3b667f-e9ad-43e2-a0f9-c1afe500248d"
      },
      "execution_count": null,
      "outputs": [
        {
          "output_type": "stream",
          "name": "stdout",
          "text": [
            "4.8167887 -0.1685003\n"
          ]
        }
      ]
    },
    {
      "cell_type": "code",
      "source": [
        "print(X.shape,y.shape)"
      ],
      "metadata": {
        "colab": {
          "base_uri": "https://localhost:8080/"
        },
        "id": "WwtIFFshl9BA",
        "outputId": "a4286265-64d9-4d9c-f808-f2741d62f130"
      },
      "execution_count": null,
      "outputs": [
        {
          "output_type": "stream",
          "name": "stdout",
          "text": [
            "(509, 17, 138) (509,)\n"
          ]
        }
      ]
    },
    {
      "cell_type": "code",
      "source": [
        "np.save(\"/content/drive/MyDrive/dissertation/rat1_post_X\",X)\n",
        "np.save(\"/content/drive/MyDrive/dissertation/rat1_post_y\",y)"
      ],
      "metadata": {
        "id": "Ct7USow1mAJY"
      },
      "execution_count": null,
      "outputs": []
    },
    {
      "cell_type": "code",
      "source": [
        "X_train,X_test,y_train,y_test = train_test_split(X,y,test_size = 0.1, random_state = 8)\n",
        "X_trn,X_val,y_trn,y_val = train_test_split(X_train,y_train,test_size = 0.1, random_state = 8)\n",
        "print(X_trn.shape,X_val.shape,X_test.shape)"
      ],
      "metadata": {
        "colab": {
          "base_uri": "https://localhost:8080/"
        },
        "id": "bQ-CxwjbiSmT",
        "outputId": "b52a40c5-1b0d-4f51-8fd4-8675c49c670b"
      },
      "execution_count": null,
      "outputs": [
        {
          "output_type": "stream",
          "name": "stdout",
          "text": [
            "(412, 17, 138) (46, 17, 138) (51, 17, 138)\n"
          ]
        }
      ]
    },
    {
      "cell_type": "markdown",
      "source": [
        "## Using keras tuner for hyperparameter tuning"
      ],
      "metadata": {
        "id": "_OBe_1ftaP7T"
      }
    },
    {
      "cell_type": "code",
      "source": [
        "!pip install keras-tuner -q"
      ],
      "metadata": {
        "id": "JSi0jEygaWs3",
        "colab": {
          "base_uri": "https://localhost:8080/"
        },
        "outputId": "83d3a02f-7526-426e-b2b0-56a01be594a4"
      },
      "execution_count": null,
      "outputs": [
        {
          "output_type": "stream",
          "name": "stdout",
          "text": [
            "\u001b[?25l\r\u001b[K     |██▌                             | 10 kB 21.5 MB/s eta 0:00:01\r\u001b[K     |█████                           | 20 kB 12.6 MB/s eta 0:00:01\r\u001b[K     |███████▍                        | 30 kB 9.9 MB/s eta 0:00:01\r\u001b[K     |█████████▉                      | 40 kB 8.9 MB/s eta 0:00:01\r\u001b[K     |████████████▎                   | 51 kB 4.5 MB/s eta 0:00:01\r\u001b[K     |██████████████▊                 | 61 kB 5.3 MB/s eta 0:00:01\r\u001b[K     |█████████████████▏              | 71 kB 5.4 MB/s eta 0:00:01\r\u001b[K     |███████████████████▋            | 81 kB 5.5 MB/s eta 0:00:01\r\u001b[K     |██████████████████████          | 92 kB 6.1 MB/s eta 0:00:01\r\u001b[K     |████████████████████████▌       | 102 kB 5.2 MB/s eta 0:00:01\r\u001b[K     |███████████████████████████     | 112 kB 5.2 MB/s eta 0:00:01\r\u001b[K     |█████████████████████████████▍  | 122 kB 5.2 MB/s eta 0:00:01\r\u001b[K     |███████████████████████████████▉| 133 kB 5.2 MB/s eta 0:00:01\r\u001b[K     |████████████████████████████████| 133 kB 5.2 MB/s \n",
            "\u001b[?25h"
          ]
        }
      ]
    },
    {
      "cell_type": "code",
      "source": [
        "import keras_tuner\n",
        "def call_model(units, units1, activation, lr):\n",
        "    inp_shape = (17,138) #17 timestamps and 138 features\n",
        "    model = keras.Sequential()\n",
        "    model.add(LSTM(units = units,input_shape = inp_shape)) #try using return_sequences = True if possible.\n",
        "    model.add(layers.Dense(units=units1, activation=activation))\n",
        "    model.add(layers.Dense(3, activation=\"softmax\"))\n",
        "    model.compile(\n",
        "        optimizer=tf.keras.optimizers.Adam(learning_rate=lr),\n",
        "        loss=\"sparse_categorical_crossentropy\",\n",
        "        metrics=[\"accuracy\"],\n",
        "    )\n",
        "    return model\n",
        "\n",
        "\n",
        "def build_model(hp):\n",
        "    units = hp.Int(\"units\", min_value=10, max_value=25, step=2)\n",
        "    units1 = hp.Int(\"units1\",min_value = 5,max_value = 15, step = 1)\n",
        "    activation = hp.Choice(\"activation\", [\"relu\", \"tanh\",\"sigmoid\"])\n",
        "    lr = hp.Float(\"lr\", min_value=1e-4, max_value=1e-2, sampling=\"log\")\n",
        "    # call existing model-building code with the hyperparameter values.\n",
        "    model = call_model(units=units, units1 = units1, activation=activation, lr=lr)\n",
        "    return model\n",
        "\n",
        "\n",
        "build_model(keras_tuner.HyperParameters())"
      ],
      "metadata": {
        "id": "HipRWDW8irAD",
        "colab": {
          "base_uri": "https://localhost:8080/"
        },
        "outputId": "9d0d39ac-e8ff-46e9-e13d-7b870a75cb39"
      },
      "execution_count": null,
      "outputs": [
        {
          "output_type": "execute_result",
          "data": {
            "text/plain": [
              "<keras.engine.sequential.Sequential at 0x7effd3e15a10>"
            ]
          },
          "metadata": {},
          "execution_count": 17
        }
      ]
    },
    {
      "cell_type": "code",
      "source": [
        "tuner = keras_tuner.RandomSearch(\n",
        "    hypermodel=build_model,\n",
        "    objective=\"val_accuracy\",\n",
        "    max_trials=30,\n",
        "    executions_per_trial=1,\n",
        "    overwrite=True,\n",
        "    directory=\"/content/drive/MyDrive/dissertation_results\",\n",
        "    project_name=\"rat1_post\",\n",
        ")"
      ],
      "metadata": {
        "id": "2WID7Nq2FLkj"
      },
      "execution_count": null,
      "outputs": []
    },
    {
      "cell_type": "code",
      "source": [
        "tuner.search_space_summary()"
      ],
      "metadata": {
        "colab": {
          "base_uri": "https://localhost:8080/"
        },
        "id": "_I9uwOsn7OVQ",
        "outputId": "e05d5b9a-8cfa-4fd1-81d3-bbe6f30ea558"
      },
      "execution_count": null,
      "outputs": [
        {
          "output_type": "stream",
          "name": "stdout",
          "text": [
            "Search space summary\n",
            "Default search space size: 4\n",
            "units (Int)\n",
            "{'default': None, 'conditions': [], 'min_value': 10, 'max_value': 25, 'step': 2, 'sampling': None}\n",
            "units1 (Int)\n",
            "{'default': None, 'conditions': [], 'min_value': 5, 'max_value': 15, 'step': 1, 'sampling': None}\n",
            "activation (Choice)\n",
            "{'default': 'relu', 'conditions': [], 'values': ['relu', 'tanh', 'sigmoid'], 'ordered': False}\n",
            "lr (Float)\n",
            "{'default': 0.0001, 'conditions': [], 'min_value': 0.0001, 'max_value': 0.01, 'step': None, 'sampling': 'log'}\n"
          ]
        }
      ]
    },
    {
      "cell_type": "code",
      "source": [
        "tuner.search(X_trn, y_trn, epochs=50, validation_data=(X_val, y_val))"
      ],
      "metadata": {
        "colab": {
          "base_uri": "https://localhost:8080/"
        },
        "id": "FEh0-C3a7OSb",
        "outputId": "8d6b9b67-e6a1-4af2-afb7-8bd9a8969adf"
      },
      "execution_count": null,
      "outputs": [
        {
          "output_type": "stream",
          "name": "stdout",
          "text": [
            "Trial 30 Complete [00h 00m 10s]\n",
            "val_accuracy: 0.97826087474823\n",
            "\n",
            "Best val_accuracy So Far: 1.0\n",
            "Total elapsed time: 00h 05m 52s\n",
            "INFO:tensorflow:Oracle triggered exit\n"
          ]
        }
      ]
    },
    {
      "cell_type": "code",
      "source": [
        "models = tuner.get_best_models(num_models=2)\n",
        "best_model = models[0]\n",
        "# Build the model.\n",
        "# Needed for `Sequential` without specified `input_shape`.\n",
        "best_model.build(input_shape=(17, 138))\n",
        "best_model.summary()"
      ],
      "metadata": {
        "colab": {
          "base_uri": "https://localhost:8080/"
        },
        "id": "6CiAQpA5AxGg",
        "outputId": "5fddf2b5-89ad-4227-cf09-21b030c7ab7e"
      },
      "execution_count": null,
      "outputs": [
        {
          "output_type": "stream",
          "name": "stdout",
          "text": [
            "Model: \"sequential\"\n",
            "_________________________________________________________________\n",
            " Layer (type)                Output Shape              Param #   \n",
            "=================================================================\n",
            " lstm (LSTM)                 (None, 14)                8568      \n",
            "                                                                 \n",
            " dense (Dense)               (None, 15)                225       \n",
            "                                                                 \n",
            " dense_1 (Dense)             (None, 3)                 48        \n",
            "                                                                 \n",
            "=================================================================\n",
            "Total params: 8,841\n",
            "Trainable params: 8,841\n",
            "Non-trainable params: 0\n",
            "_________________________________________________________________\n",
            "WARNING:tensorflow:Detecting that an object or model or tf.train.Checkpoint is being deleted with unrestored values. See the following logs for the specific values in question. To silence these warnings, use `status.expect_partial()`. See https://www.tensorflow.org/api_docs/python/tf/train/Checkpoint#restorefor details about the status object returned by the restore function.\n",
            "WARNING:tensorflow:Value in checkpoint could not be found in the restored object: (root).optimizer.iter\n",
            "WARNING:tensorflow:Value in checkpoint could not be found in the restored object: (root).optimizer.beta_1\n",
            "WARNING:tensorflow:Value in checkpoint could not be found in the restored object: (root).optimizer.beta_2\n",
            "WARNING:tensorflow:Value in checkpoint could not be found in the restored object: (root).optimizer.decay\n",
            "WARNING:tensorflow:Value in checkpoint could not be found in the restored object: (root).optimizer.learning_rate\n"
          ]
        }
      ]
    },
    {
      "cell_type": "code",
      "source": [
        "tuner.results_summary()"
      ],
      "metadata": {
        "colab": {
          "base_uri": "https://localhost:8080/"
        },
        "id": "K8wGHGFOAxBQ",
        "outputId": "f9792bd0-2b90-4b7d-9f7b-283ec2305f16"
      },
      "execution_count": null,
      "outputs": [
        {
          "output_type": "stream",
          "name": "stdout",
          "text": [
            "Results summary\n",
            "Results in /content/drive/MyDrive/dissertation_results/rat1_post\n",
            "Showing 10 best trials\n",
            "<keras_tuner.engine.objective.Objective object at 0x7effcfbffa90>\n",
            "Trial summary\n",
            "Hyperparameters:\n",
            "units: 14\n",
            "units1: 15\n",
            "activation: tanh\n",
            "lr: 0.004097698822304509\n",
            "Score: 1.0\n",
            "Trial summary\n",
            "Hyperparameters:\n",
            "units: 20\n",
            "units1: 8\n",
            "activation: sigmoid\n",
            "lr: 0.005596263010459105\n",
            "Score: 1.0\n",
            "Trial summary\n",
            "Hyperparameters:\n",
            "units: 22\n",
            "units1: 13\n",
            "activation: relu\n",
            "lr: 0.004806061600503526\n",
            "Score: 1.0\n",
            "Trial summary\n",
            "Hyperparameters:\n",
            "units: 14\n",
            "units1: 8\n",
            "activation: tanh\n",
            "lr: 0.003124363394528359\n",
            "Score: 1.0\n",
            "Trial summary\n",
            "Hyperparameters:\n",
            "units: 12\n",
            "units1: 11\n",
            "activation: sigmoid\n",
            "lr: 0.0056309665086507685\n",
            "Score: 1.0\n",
            "Trial summary\n",
            "Hyperparameters:\n",
            "units: 12\n",
            "units1: 8\n",
            "activation: sigmoid\n",
            "lr: 0.0068764992685704076\n",
            "Score: 1.0\n",
            "Trial summary\n",
            "Hyperparameters:\n",
            "units: 20\n",
            "units1: 8\n",
            "activation: sigmoid\n",
            "lr: 0.0021111648883517264\n",
            "Score: 1.0\n",
            "Trial summary\n",
            "Hyperparameters:\n",
            "units: 10\n",
            "units1: 14\n",
            "activation: relu\n",
            "lr: 0.001411348024061337\n",
            "Score: 1.0\n",
            "Trial summary\n",
            "Hyperparameters:\n",
            "units: 22\n",
            "units1: 8\n",
            "activation: sigmoid\n",
            "lr: 0.001078640738748251\n",
            "Score: 1.0\n",
            "Trial summary\n",
            "Hyperparameters:\n",
            "units: 14\n",
            "units1: 15\n",
            "activation: sigmoid\n",
            "lr: 0.009929423316917789\n",
            "Score: 1.0\n"
          ]
        }
      ]
    },
    {
      "cell_type": "code",
      "source": [
        "l = tf.keras.losses.SparseCategoricalCrossentropy()\n",
        "opt = tf.keras.optimizers.Adam(learning_rate = 0.004097698822304509)\n",
        "best_model.compile(loss= l, optimizer = opt,metrics=['accuracy'])\n",
        "history = best_model.fit(X_trn,y_trn,batch_size = 32,epochs = 50,verbose = 2,steps_per_epoch = X_trn.shape[0]/50,validation_data=(X_val,y_val))"
      ],
      "metadata": {
        "id": "u-UVOb-IAw-q"
      },
      "execution_count": null,
      "outputs": []
    },
    {
      "cell_type": "markdown",
      "source": [
        "#lstm_1"
      ],
      "metadata": {
        "id": "-HCyoNwNHkr_"
      }
    },
    {
      "cell_type": "code",
      "source": [
        "import tensorflow as tf\n",
        "import keras\n",
        "from keras.models import Sequential\n",
        "from keras.layers import Dense\n",
        "from keras.layers import LSTM\n",
        "from keras.layers import Activation\n",
        "from keras import layers,models"
      ],
      "metadata": {
        "id": "XfbsaNuWHw74",
        "colab": {
          "base_uri": "https://localhost:8080/"
        },
        "outputId": "003c984f-b0e5-4c30-dc2b-ca4e9fc2b2ae"
      },
      "execution_count": null,
      "outputs": [
        {
          "output_type": "stream",
          "name": "stdout",
          "text": [
            "WARNING:tensorflow:Detecting that an object or model or tf.train.Checkpoint is being deleted with unrestored values. See the following logs for the specific values in question. To silence these warnings, use `status.expect_partial()`. See https://www.tensorflow.org/api_docs/python/tf/train/Checkpoint#restorefor details about the status object returned by the restore function.\n",
            "WARNING:tensorflow:Value in checkpoint could not be found in the restored object: (root).optimizer.iter\n",
            "WARNING:tensorflow:Value in checkpoint could not be found in the restored object: (root).optimizer.beta_1\n",
            "WARNING:tensorflow:Value in checkpoint could not be found in the restored object: (root).optimizer.beta_2\n",
            "WARNING:tensorflow:Value in checkpoint could not be found in the restored object: (root).optimizer.decay\n",
            "WARNING:tensorflow:Value in checkpoint could not be found in the restored object: (root).optimizer.learning_rate\n"
          ]
        }
      ]
    },
    {
      "cell_type": "code",
      "source": [
        "def create_model(units,units1,activation):\n",
        "  input_shape = (17,138) #17 timestamps and 138 features\n",
        "  basic_lstm = Sequential()\n",
        "  basic_lstm.add(LSTM(units=units,input_shape = input_shape))\n",
        "  basic_lstm.add(Dense(units = units1,activation = activation))\n",
        "  basic_lstm.add(Dense(3,activation = 'softmax'))\n",
        "  return basic_lstm"
      ],
      "metadata": {
        "id": "P3r0w27gHwzU"
      },
      "execution_count": null,
      "outputs": []
    },
    {
      "cell_type": "code",
      "source": [
        "lstm_1 = create_model(units = 14,units1 = 15,activation='tanh')\n",
        "lstm_1.summary()"
      ],
      "metadata": {
        "colab": {
          "base_uri": "https://localhost:8080/"
        },
        "id": "2qN4RZ7fHwwp",
        "outputId": "6d2bc2af-daf4-4da6-c837-1ecec3cacee8"
      },
      "execution_count": null,
      "outputs": [
        {
          "output_type": "stream",
          "name": "stdout",
          "text": [
            "Model: \"sequential_1\"\n",
            "_________________________________________________________________\n",
            " Layer (type)                Output Shape              Param #   \n",
            "=================================================================\n",
            " lstm_1 (LSTM)               (None, 14)                8568      \n",
            "                                                                 \n",
            " dense_2 (Dense)             (None, 15)                225       \n",
            "                                                                 \n",
            " dense_3 (Dense)             (None, 3)                 48        \n",
            "                                                                 \n",
            "=================================================================\n",
            "Total params: 8,841\n",
            "Trainable params: 8,841\n",
            "Non-trainable params: 0\n",
            "_________________________________________________________________\n"
          ]
        }
      ]
    },
    {
      "cell_type": "code",
      "source": [
        "#early_stop = tf.keras.callbacks.EarlyStopping(monitor = 'val_loss',patience=5)\n",
        "l = tf.keras.losses.SparseCategoricalCrossentropy()\n",
        "opt = tf.keras.optimizers.Adam(learning_rate= 0.0040977)\n",
        "lstm_1.compile(loss= l, optimizer = opt,metrics=['accuracy'])\n",
        "history = lstm_1.fit(X_trn,y_trn,batch_size = 32,epochs = 50,verbose = 2,steps_per_epoch = X_trn.shape[0]/50,validation_data=(X_val,y_val))"
      ],
      "metadata": {
        "id": "7_cZEtsj36K3",
        "colab": {
          "base_uri": "https://localhost:8080/"
        },
        "outputId": "cf28e605-6732-4446-f080-4802d967b5e8"
      },
      "execution_count": null,
      "outputs": [
        {
          "output_type": "stream",
          "name": "stdout",
          "text": [
            "Epoch 1/50\n",
            "8/8 - 2s - loss: 1.0058 - accuracy: 0.5139 - val_loss: 0.9318 - val_accuracy: 0.5870 - 2s/epoch - 285ms/step\n",
            "Epoch 2/50\n",
            "8/8 - 0s - loss: 0.9057 - accuracy: 0.6585 - val_loss: 0.7422 - val_accuracy: 0.8043 - 86ms/epoch - 10ms/step\n",
            "Epoch 3/50\n",
            "8/8 - 0s - loss: 0.7636 - accuracy: 0.6796 - val_loss: 0.5480 - val_accuracy: 0.7609 - 91ms/epoch - 11ms/step\n",
            "Epoch 4/50\n",
            "8/8 - 0s - loss: 0.4515 - accuracy: 0.8438 - val_loss: 0.4225 - val_accuracy: 0.8043 - 90ms/epoch - 11ms/step\n",
            "Epoch 5/50\n",
            "8/8 - 0s - loss: 0.3636 - accuracy: 0.8732 - val_loss: 0.2324 - val_accuracy: 0.9130 - 95ms/epoch - 12ms/step\n",
            "Epoch 6/50\n",
            "8/8 - 0s - loss: 0.2298 - accuracy: 0.9225 - val_loss: 0.2282 - val_accuracy: 0.9130 - 91ms/epoch - 11ms/step\n",
            "Epoch 7/50\n",
            "8/8 - 0s - loss: 0.2310 - accuracy: 0.9236 - val_loss: 0.1773 - val_accuracy: 0.9348 - 95ms/epoch - 11ms/step\n",
            "Epoch 8/50\n",
            "8/8 - 0s - loss: 0.1571 - accuracy: 0.9577 - val_loss: 0.0941 - val_accuracy: 1.0000 - 93ms/epoch - 11ms/step\n",
            "Epoch 9/50\n",
            "8/8 - 0s - loss: 0.1447 - accuracy: 0.9648 - val_loss: 0.0966 - val_accuracy: 0.9565 - 104ms/epoch - 13ms/step\n",
            "Epoch 10/50\n",
            "8/8 - 0s - loss: 0.1061 - accuracy: 0.9653 - val_loss: 0.0824 - val_accuracy: 0.9565 - 89ms/epoch - 11ms/step\n",
            "Epoch 11/50\n",
            "8/8 - 0s - loss: 0.0792 - accuracy: 0.9789 - val_loss: 0.0596 - val_accuracy: 1.0000 - 90ms/epoch - 11ms/step\n",
            "Epoch 12/50\n",
            "8/8 - 0s - loss: 0.0894 - accuracy: 0.9754 - val_loss: 0.0686 - val_accuracy: 0.9783 - 93ms/epoch - 11ms/step\n",
            "Epoch 13/50\n",
            "8/8 - 0s - loss: 0.0811 - accuracy: 0.9683 - val_loss: 0.0486 - val_accuracy: 0.9783 - 91ms/epoch - 11ms/step\n",
            "Epoch 14/50\n",
            "8/8 - 0s - loss: 0.0958 - accuracy: 0.9688 - val_loss: 0.0890 - val_accuracy: 0.9565 - 97ms/epoch - 12ms/step\n",
            "Epoch 15/50\n",
            "8/8 - 0s - loss: 0.0602 - accuracy: 0.9824 - val_loss: 0.0982 - val_accuracy: 0.9565 - 92ms/epoch - 11ms/step\n",
            "Epoch 16/50\n",
            "8/8 - 0s - loss: 0.0498 - accuracy: 0.9859 - val_loss: 0.1274 - val_accuracy: 0.9348 - 88ms/epoch - 11ms/step\n",
            "Epoch 17/50\n",
            "8/8 - 0s - loss: 0.0393 - accuracy: 0.9861 - val_loss: 0.0693 - val_accuracy: 0.9783 - 99ms/epoch - 12ms/step\n",
            "Epoch 18/50\n",
            "8/8 - 0s - loss: 0.0367 - accuracy: 0.9930 - val_loss: 0.0420 - val_accuracy: 0.9783 - 95ms/epoch - 11ms/step\n",
            "Epoch 19/50\n",
            "8/8 - 0s - loss: 0.0520 - accuracy: 0.9789 - val_loss: 0.0526 - val_accuracy: 0.9783 - 89ms/epoch - 11ms/step\n",
            "Epoch 20/50\n",
            "8/8 - 0s - loss: 0.0484 - accuracy: 0.9896 - val_loss: 0.1824 - val_accuracy: 0.9348 - 103ms/epoch - 12ms/step\n",
            "Epoch 21/50\n",
            "8/8 - 0s - loss: 0.0166 - accuracy: 0.9965 - val_loss: 0.0307 - val_accuracy: 0.9783 - 96ms/epoch - 12ms/step\n",
            "Epoch 22/50\n",
            "8/8 - 0s - loss: 0.0490 - accuracy: 0.9824 - val_loss: 0.0308 - val_accuracy: 0.9783 - 92ms/epoch - 11ms/step\n",
            "Epoch 23/50\n",
            "8/8 - 0s - loss: 0.0386 - accuracy: 0.9931 - val_loss: 0.0545 - val_accuracy: 0.9783 - 92ms/epoch - 11ms/step\n",
            "Epoch 24/50\n",
            "8/8 - 0s - loss: 0.0342 - accuracy: 0.9894 - val_loss: 0.0794 - val_accuracy: 0.9783 - 118ms/epoch - 14ms/step\n",
            "Epoch 25/50\n",
            "8/8 - 0s - loss: 0.0240 - accuracy: 0.9965 - val_loss: 0.0590 - val_accuracy: 0.9783 - 97ms/epoch - 12ms/step\n",
            "Epoch 26/50\n",
            "8/8 - 0s - loss: 0.0148 - accuracy: 0.9965 - val_loss: 0.0514 - val_accuracy: 0.9783 - 93ms/epoch - 11ms/step\n",
            "Epoch 27/50\n",
            "8/8 - 0s - loss: 0.0109 - accuracy: 0.9965 - val_loss: 0.0848 - val_accuracy: 0.9565 - 103ms/epoch - 12ms/step\n",
            "Epoch 28/50\n",
            "8/8 - 0s - loss: 0.0341 - accuracy: 0.9894 - val_loss: 0.0515 - val_accuracy: 0.9783 - 97ms/epoch - 12ms/step\n",
            "Epoch 29/50\n",
            "8/8 - 0s - loss: 0.0501 - accuracy: 0.9859 - val_loss: 0.0232 - val_accuracy: 1.0000 - 90ms/epoch - 11ms/step\n",
            "Epoch 30/50\n",
            "8/8 - 0s - loss: 0.0212 - accuracy: 0.9931 - val_loss: 0.0515 - val_accuracy: 0.9565 - 106ms/epoch - 13ms/step\n",
            "Epoch 31/50\n",
            "8/8 - 0s - loss: 0.0294 - accuracy: 0.9859 - val_loss: 0.0886 - val_accuracy: 0.9565 - 88ms/epoch - 11ms/step\n",
            "Epoch 32/50\n",
            "8/8 - 0s - loss: 0.0142 - accuracy: 0.9894 - val_loss: 0.0282 - val_accuracy: 0.9783 - 90ms/epoch - 11ms/step\n",
            "Epoch 33/50\n",
            "8/8 - 0s - loss: 0.0216 - accuracy: 0.9931 - val_loss: 0.1388 - val_accuracy: 0.9565 - 89ms/epoch - 11ms/step\n",
            "Epoch 34/50\n",
            "8/8 - 0s - loss: 0.0475 - accuracy: 0.9789 - val_loss: 0.0504 - val_accuracy: 0.9783 - 92ms/epoch - 11ms/step\n",
            "Epoch 35/50\n",
            "8/8 - 0s - loss: 0.0184 - accuracy: 0.9930 - val_loss: 0.0844 - val_accuracy: 0.9783 - 87ms/epoch - 11ms/step\n",
            "Epoch 36/50\n",
            "8/8 - 0s - loss: 0.0304 - accuracy: 0.9931 - val_loss: 0.0540 - val_accuracy: 0.9783 - 95ms/epoch - 11ms/step\n",
            "Epoch 37/50\n",
            "8/8 - 0s - loss: 0.0163 - accuracy: 1.0000 - val_loss: 0.2285 - val_accuracy: 0.9130 - 91ms/epoch - 11ms/step\n",
            "Epoch 38/50\n",
            "8/8 - 0s - loss: 0.0248 - accuracy: 0.9894 - val_loss: 0.1283 - val_accuracy: 0.9565 - 93ms/epoch - 11ms/step\n",
            "Epoch 39/50\n",
            "8/8 - 0s - loss: 0.0277 - accuracy: 0.9859 - val_loss: 0.0336 - val_accuracy: 1.0000 - 93ms/epoch - 11ms/step\n",
            "Epoch 40/50\n",
            "8/8 - 0s - loss: 0.0332 - accuracy: 0.9896 - val_loss: 0.0365 - val_accuracy: 0.9783 - 95ms/epoch - 12ms/step\n",
            "Epoch 41/50\n",
            "8/8 - 0s - loss: 0.0099 - accuracy: 1.0000 - val_loss: 0.0243 - val_accuracy: 1.0000 - 94ms/epoch - 11ms/step\n",
            "Epoch 42/50\n",
            "8/8 - 0s - loss: 0.0131 - accuracy: 0.9965 - val_loss: 0.1326 - val_accuracy: 0.9565 - 88ms/epoch - 11ms/step\n",
            "Epoch 43/50\n",
            "8/8 - 0s - loss: 0.0139 - accuracy: 0.9965 - val_loss: 0.0967 - val_accuracy: 0.9565 - 88ms/epoch - 11ms/step\n",
            "Epoch 44/50\n",
            "8/8 - 0s - loss: 0.0202 - accuracy: 0.9965 - val_loss: 0.0432 - val_accuracy: 0.9783 - 96ms/epoch - 12ms/step\n",
            "Epoch 45/50\n",
            "8/8 - 0s - loss: 0.0070 - accuracy: 1.0000 - val_loss: 0.0984 - val_accuracy: 0.9565 - 90ms/epoch - 11ms/step\n",
            "Epoch 46/50\n",
            "8/8 - 0s - loss: 0.0041 - accuracy: 1.0000 - val_loss: 0.0158 - val_accuracy: 1.0000 - 91ms/epoch - 11ms/step\n",
            "Epoch 47/50\n",
            "8/8 - 0s - loss: 0.0027 - accuracy: 1.0000 - val_loss: 0.0661 - val_accuracy: 0.9783 - 90ms/epoch - 11ms/step\n",
            "Epoch 48/50\n",
            "8/8 - 0s - loss: 0.0018 - accuracy: 1.0000 - val_loss: 0.0825 - val_accuracy: 0.9565 - 94ms/epoch - 11ms/step\n",
            "Epoch 49/50\n",
            "8/8 - 0s - loss: 0.0022 - accuracy: 1.0000 - val_loss: 0.0410 - val_accuracy: 0.9783 - 91ms/epoch - 11ms/step\n",
            "Epoch 50/50\n",
            "8/8 - 0s - loss: 0.0016 - accuracy: 1.0000 - val_loss: 0.0687 - val_accuracy: 0.9783 - 91ms/epoch - 11ms/step\n"
          ]
        }
      ]
    },
    {
      "cell_type": "code",
      "source": [
        "m = history.history\n",
        "plt.rcParams[\"figure.figsize\"] = (8,6)\n",
        "epochs = list(range(1,51))\n",
        "plt.plot(epochs,m['loss'],'r',label = 'train_loss')\n",
        "plt.plot(epochs,m['val_loss'],'b',label = 'val_loss')\n",
        "plt.grid()\n",
        "plt.legend()\n",
        "plt.show()"
      ],
      "metadata": {
        "colab": {
          "base_uri": "https://localhost:8080/",
          "height": 374
        },
        "id": "Uz2rG2A7B-gP",
        "outputId": "b35672c3-7124-45f4-804c-b8b44220563c"
      },
      "execution_count": null,
      "outputs": [
        {
          "output_type": "display_data",
          "data": {
            "text/plain": [
              "<Figure size 576x432 with 1 Axes>"
            ],
            "image/png": "[encoded data removed]"
          },
          "metadata": {
            "needs_background": "light"
          }
        }
      ]
    },
    {
      "cell_type": "code",
      "source": [
        "plt.plot(epochs,m['accuracy'],'r',label = 'train_acc')\n",
        "plt.plot(epochs,m['val_accuracy'],'b',label = 'val_acc')\n",
        "plt.grid()\n",
        "plt.legend()\n",
        "plt.show()"
      ],
      "metadata": {
        "colab": {
          "base_uri": "https://localhost:8080/",
          "height": 374
        },
        "id": "OWrqlu4eCaeg",
        "outputId": "d6e7c15a-b577-4182-f7b1-102e6f513be7"
      },
      "execution_count": null,
      "outputs": [
        {
          "output_type": "display_data",
          "data": {
            "text/plain": [
              "<Figure size 576x432 with 1 Axes>"
            ],
            "image/png": "[encoded data removed]"
          },
          "metadata": {
            "needs_background": "light"
          }
        }
      ]
    },
    {
      "cell_type": "code",
      "source": [
        "from sklearn.metrics import accuracy_score\n",
        "y_pred = lstm_1.predict(X_test,batch_size = 1)\n",
        "ypred = np.argmax(y_pred,axis=1)\n",
        "accuracy_score(y_test,ypred)"
      ],
      "metadata": {
        "colab": {
          "base_uri": "https://localhost:8080/"
        },
        "outputId": "b93d2965-e76a-437e-f032-3c3f8e5f7471",
        "id": "yAEG_AZZMc3F"
      },
      "execution_count": null,
      "outputs": [
        {
          "output_type": "execute_result",
          "data": {
            "text/plain": [
              "0.9803921568627451"
            ]
          },
          "metadata": {},
          "execution_count": 33
        }
      ]
    },
    {
      "cell_type": "code",
      "source": [
        "lstm_1.save(\"/content/drive/MyDrive/dissertation/time_series_classification/rat1_post/lstm_1.h5\")"
      ],
      "metadata": {
        "id": "D2jpSPcToN8J"
      },
      "execution_count": null,
      "outputs": []
    },
    {
      "cell_type": "code",
      "source": [
        ""
      ],
      "metadata": {
        "id": "q5DVnZ86orU2"
      },
      "execution_count": null,
      "outputs": []
    }
  ]
}