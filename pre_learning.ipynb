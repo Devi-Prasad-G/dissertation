{
  "nbformat": 4,
  "nbformat_minor": 0,
  "metadata": {
    "colab": {
      "name": "rat_pre.ipynb",
      "provenance": [],
      "collapsed_sections": [
        "Apm8g1XLVFTq"
      ]
    },
    "kernelspec": {
      "name": "python3",
      "display_name": "Python 3"
    },
    "language_info": {
      "name": "python"
    }
  },
  "cells": [
    {
      "cell_type": "code",
      "execution_count": null,
      "metadata": {
        "id": "11Rf1diO0K7S"
      },
      "outputs": [],
      "source": [
        "import scipy.io"
      ]
    },
    {
      "cell_type": "code",
      "source": [
        "data = scipy.io.loadmat(\"/content/drive/MyDrive/dissertation/LearningData.mat\")"
      ],
      "metadata": {
        "id": "d6tfD5MN0XGc"
      },
      "execution_count": null,
      "outputs": []
    },
    {
      "cell_type": "markdown",
      "source": [
        "## Exploration"
      ],
      "metadata": {
        "id": "Apm8g1XLVFTq"
      }
    },
    {
      "cell_type": "code",
      "source": [
        "print(type(data))\n",
        "print(data.keys())"
      ],
      "metadata": {
        "colab": {
          "base_uri": "https://localhost:8080/"
        },
        "id": "Eblawx3J092F",
        "outputId": "9a52118a-f212-46c0-a631-69f45979d6d2"
      },
      "execution_count": null,
      "outputs": [
        {
          "output_type": "stream",
          "name": "stdout",
          "text": [
            "<class 'dict'>\n",
            "dict_keys(['__header__', '__version__', '__globals__', 'rmat_post', 'rmat_pre', 'tMOT', 'tsamples', 'vmatpost', 'vmatpre'])\n"
          ]
        }
      ]
    },
    {
      "cell_type": "markdown",
      "source": [
        "rmat_pre/post = dF/F signals for 8 mice and three stimuli (vertical, angled, gray corridor); vmatpre/post has the corresponding running speed signals; tsamples are the time samples for the calcium imaging; tMOT are the time samples for the running speed signal. Usually we only use a short segment of time around stimulus onset (e.g., -1 to 1 s), so not the full range of tsamples or tMOT."
      ],
      "metadata": {
        "id": "oZ-Ron4kK6h2"
      }
    },
    {
      "cell_type": "code",
      "source": [
        "print(data['__header__'])\n",
        "print(data['__version__'])\n",
        "print(data['tMOT'].shape)"
      ],
      "metadata": {
        "colab": {
          "base_uri": "https://localhost:8080/"
        },
        "id": "v9PduyQY9H71",
        "outputId": "23738966-73ac-4edd-83ff-4804e36f54d8"
      },
      "execution_count": null,
      "outputs": [
        {
          "output_type": "stream",
          "name": "stdout",
          "text": [
            "b'MATLAB 5.0 MAT-file, Platform: PCWIN64, Created on: Tue Apr 19 08:22:01 2022'\n",
            "1.0\n",
            "(1, 3)\n"
          ]
        }
      ]
    },
    {
      "cell_type": "code",
      "source": [
        "print(data['tMOT'])\n",
        "print(data['tMOT'][0][0][0], data['tMOT'][0][0][0].shape)"
      ],
      "metadata": {
        "colab": {
          "base_uri": "https://localhost:8080/"
        },
        "id": "hkvQhONBKC2P",
        "outputId": "57ca531e-bef8-4cb3-8e09-12dee198898f"
      },
      "execution_count": null,
      "outputs": [
        {
          "output_type": "stream",
          "name": "stdout",
          "text": [
            "[[array([[-4.995, -4.99 , -4.985, ...,  4.985,  4.99 ,  4.995]])\n",
            "  array([[-4.995, -4.99 , -4.985, ...,  4.985,  4.99 ,  4.995]])\n",
            "  array([[-4.995, -4.99 , -4.985, ...,  4.985,  4.99 ,  4.995]])]]\n",
            "[-4.995 -4.99  -4.985 ...  4.985  4.99   4.995] (1999,)\n"
          ]
        }
      ]
    },
    {
      "cell_type": "code",
      "source": [
        "print(data['tsamples'], data['tsamples'].shape)"
      ],
      "metadata": {
        "colab": {
          "base_uri": "https://localhost:8080/"
        },
        "id": "QycU3xkv3CqK",
        "outputId": "6f116808-b24d-4db3-b10a-d861e6022a32"
      },
      "execution_count": null,
      "outputs": [
        {
          "output_type": "stream",
          "name": "stdout",
          "text": [
            "[[-1.984 -1.86  -1.736 -1.612 -1.488 -1.364 -1.24  -1.116 -0.992 -0.868\n",
            "  -0.744 -0.62  -0.496 -0.372 -0.248 -0.124  0.     0.124  0.248  0.372\n",
            "   0.496  0.62   0.744  0.868  0.992  1.116  1.24   1.364  1.488  1.612\n",
            "   1.736  1.86   1.984  2.108  2.232  2.356  2.48   2.604  2.728  2.852\n",
            "   2.976  3.1    3.224  3.348  3.472  3.596  3.72   3.844  3.968  4.092\n",
            "   4.216  4.34   4.464  4.588  4.712  4.836  4.96 ]] (1, 57)\n"
          ]
        }
      ]
    },
    {
      "cell_type": "markdown",
      "source": [
        "8 mice\n",
        "\n",
        "1st(pre) -> 3 stimuli vertical(78), angled(54), gray corridor(131) -> 138 neurons -> 57 timeframes \n",
        "\n",
        "Velocities recorded for timesteps in tMOT array"
      ],
      "metadata": {
        "id": "c3ujuF2qdBR8"
      }
    },
    {
      "cell_type": "code",
      "source": [
        "y1 = np.array(data['rmat_pre'])\n",
        "x1 = y1[0] #1,6 has no data\n",
        "print(y1.shape)\n",
        "print(x1.shape)\n",
        "print(x1[0].shape)\n",
        "print(x1[1].shape)\n",
        "print(x1[2].shape)"
      ],
      "metadata": {
        "id": "6GHJS7gDfR0Y",
        "colab": {
          "base_uri": "https://localhost:8080/"
        },
        "outputId": "e9bbfd22-8e1c-4207-a839-b47033bd80ed"
      },
      "execution_count": null,
      "outputs": [
        {
          "output_type": "stream",
          "name": "stdout",
          "text": [
            "(10, 3)\n",
            "(3,)\n",
            "(78, 138, 57)\n",
            "(54, 138, 57)\n",
            "(131, 138, 57)\n"
          ]
        }
      ]
    },
    {
      "cell_type": "code",
      "source": [
        "y2 = np.array(data['vmatpre'])\n",
        "x2 = y2[0]\n",
        "print(y2.shape)\n",
        "print(x2.shape)\n",
        "print(x2[0].shape)\n",
        "print(x2[1].shape)\n",
        "print(x2[2].shape)"
      ],
      "metadata": {
        "colab": {
          "base_uri": "https://localhost:8080/"
        },
        "id": "zNwg0ogScbyh",
        "outputId": "dd3536dd-a80f-480a-ce17-fccec2e558e3"
      },
      "execution_count": null,
      "outputs": [
        {
          "output_type": "stream",
          "name": "stdout",
          "text": [
            "(10, 3)\n",
            "(3,)\n",
            "(78, 1999)\n",
            "(54, 1999)\n",
            "(131, 1999)\n"
          ]
        }
      ]
    },
    {
      "cell_type": "markdown",
      "source": [
        "8 mice\n",
        "\n",
        "1st(post) -> 3 stimuli vertical(135), angled(120), gray corridor(254) -> 138 neurons -> 57 timeframes \n",
        "\n",
        "velocities recorded for timesteps in tMOT array(1999) "
      ],
      "metadata": {
        "id": "tfKoRDQcTAIY"
      }
    },
    {
      "cell_type": "code",
      "source": [
        "import numpy as np\n",
        "y = np.array(data['rmat_post'])\n",
        "x = y[0] #1,6(no data)\n",
        "print(y.shape)\n",
        "print(x.shape)\n",
        "print(x[0].shape)\n",
        "print(x[1].shape)\n",
        "print(x[2].shape)"
      ],
      "metadata": {
        "colab": {
          "base_uri": "https://localhost:8080/"
        },
        "id": "wHUQPQjC2HKL",
        "outputId": "a158fb19-8818-4adc-de59-9811a0de7d92"
      },
      "execution_count": null,
      "outputs": [
        {
          "output_type": "stream",
          "name": "stdout",
          "text": [
            "(10, 3)\n",
            "(3,)\n",
            "(135, 138, 57)\n",
            "(120, 138, 57)\n",
            "(254, 138, 57)\n"
          ]
        }
      ]
    },
    {
      "cell_type": "code",
      "source": [
        "y3 = np.array(data['vmatpost'])\n",
        "x3 = y3[0]\n",
        "print(y3.shape)\n",
        "print(x3.shape)\n",
        "print(x3[0].shape)\n",
        "print(x3[1].shape)\n",
        "print(x3[2].shape)"
      ],
      "metadata": {
        "colab": {
          "base_uri": "https://localhost:8080/"
        },
        "id": "_cif_8PDdqYk",
        "outputId": "8623713a-a1dc-4750-a2c6-8a617310f2b8"
      },
      "execution_count": null,
      "outputs": [
        {
          "output_type": "stream",
          "name": "stdout",
          "text": [
            "(10, 3)\n",
            "(3,)\n",
            "(135, 1999)\n",
            "(120, 1999)\n",
            "(254, 1999)\n"
          ]
        }
      ]
    },
    {
      "cell_type": "markdown",
      "source": [
        "Questions:\n",
        "\n",
        "1. Each neuron identity availability\n",
        "2. Any other data is availble\n",
        "3. Previous code for MVAR model if available\n",
        "4. Feedback for IPP is plan valid or some changes required\n",
        "5. Any specific things expected to work on \n",
        "6. How meetings work every week"
      ],
      "metadata": {
        "id": "K4wdNgmraOpg"
      }
    },
    {
      "cell_type": "markdown",
      "source": [
        "# Data preparation"
      ],
      "metadata": {
        "id": "JxECxdEfHsvw"
      }
    },
    {
      "cell_type": "code",
      "source": [
        "from matplotlib import pyplot as plt\n",
        "import numpy as np\n",
        "import pandas as pd\n",
        "from sklearn.model_selection import train_test_split"
      ],
      "metadata": {
        "id": "3lACrpZZar9H"
      },
      "execution_count": null,
      "outputs": []
    },
    {
      "cell_type": "code",
      "source": [
        "r1 = data['rmat_pre'][0]\n",
        "print(r1.shape)"
      ],
      "metadata": {
        "id": "RjH7GpDUS6Ig",
        "colab": {
          "base_uri": "https://localhost:8080/"
        },
        "outputId": "2c90ee46-f927-47f4-dd55-e1e644e030ee"
      },
      "execution_count": null,
      "outputs": [
        {
          "output_type": "stream",
          "name": "stdout",
          "text": [
            "(3,)\n"
          ]
        }
      ]
    },
    {
      "cell_type": "code",
      "source": [
        "#create new dataset by combining all experiments for each animal\n",
        "def create_dataset(exp):\n",
        "  vertical = exp[0]\n",
        "  new_v = np.take(vertical, list(range(8,25)), axis = 2) #taking values from -1 to 1 sec using tsamples array\n",
        "  angled = exp[1]\n",
        "  new_a = np.take(angled, list(range(8,25)), axis = 2) #taking values from -1 to 1 sec using tsamples array\n",
        "  gray_corridor = exp[2]\n",
        "  new_g = np.take(gray_corridor, list(range(8,25)), axis = 2) #taking values from -1 to 1 sec using tsamples array\n",
        "  #creating y labels 0-vertical, 1-angled, 2-gray corridor\n",
        "  y = [0 for i in range(new_v.shape[0])] + [1 for i in range(new_a.shape[0])] + [2 for i in range(new_g.shape[0])]\n",
        "  combine = np.concatenate((new_v,new_a,new_g))\n",
        "  #changing axis as required by lstm (samples, time, features)\n",
        "  changed_axis = np.transpose(combine,axes = [0,2,1])\n",
        "  return changed_axis,np.array(y)"
      ],
      "metadata": {
        "id": "9f0YsLgS8Qgh"
      },
      "execution_count": null,
      "outputs": []
    },
    {
      "cell_type": "code",
      "source": [
        "#finding nan values in X and dropping them\n",
        "def remove_empty(X,y):\n",
        "  print(\"total no of empty values in X = \",np.isnan(X).sum())\n",
        "  print(\"old shape = \", X.shape, y.shape)\n",
        "  trials_with_nan = []\n",
        "  for ind,i in enumerate(X):\n",
        "    if np.isnan(i).sum()!=0:\n",
        "      print(\"trail = \", ind, \" empty values = \", np.isnan(i).sum())\n",
        "      trials_with_nan.append(ind)\n",
        "  X = np.delete(X, trials_with_nan, axis = 0) #dropping the trials with empty values from the dataset\n",
        "  y = np.delete(y, trials_with_nan)\n",
        "  print(\"new X shape = \", X.shape,y.shape)\n",
        "  return X,y"
      ],
      "metadata": {
        "id": "O2ghkTvMmeYk"
      },
      "execution_count": null,
      "outputs": []
    },
    {
      "cell_type": "code",
      "source": [
        "#normalizing by finding max and minimum for all neurons in later part can try based on cell type\n",
        "def normalize(X,y):\n",
        "  xmax,xmin = np.max(X.flatten()),np.min(X.flatten())\n",
        "  print(xmax,xmin)\n",
        "  fun = lambda t: (t-xmin)/(xmax-xmin)\n",
        "  xfun = np.vectorize(fun)\n",
        "  x = xfun(X)\n",
        "  return x,y"
      ],
      "metadata": {
        "id": "fMTDtVuSlQhQ"
      },
      "execution_count": null,
      "outputs": []
    },
    {
      "cell_type": "code",
      "source": [
        "X,y = create_dataset(r1)"
      ],
      "metadata": {
        "id": "zrTg69g_BWpX"
      },
      "execution_count": null,
      "outputs": []
    },
    {
      "cell_type": "code",
      "source": [
        "print(X.shape,y.shape)"
      ],
      "metadata": {
        "colab": {
          "base_uri": "https://localhost:8080/"
        },
        "id": "qgoPGHH3He82",
        "outputId": "1f890abc-1c26-47f4-ad7a-5fb5e6043555"
      },
      "execution_count": null,
      "outputs": [
        {
          "output_type": "stream",
          "name": "stdout",
          "text": [
            "(263, 17, 138) (263,)\n"
          ]
        }
      ]
    },
    {
      "cell_type": "code",
      "source": [
        "X,y = remove_empty(X,y)\n",
        "print(np.isnan(X).sum())"
      ],
      "metadata": {
        "colab": {
          "base_uri": "https://localhost:8080/"
        },
        "id": "tLB8-KNdep9G",
        "outputId": "c952a7c1-cab3-44da-df68-0cad99a455d7"
      },
      "execution_count": null,
      "outputs": [
        {
          "output_type": "stream",
          "name": "stdout",
          "text": [
            "total no of empty values in X =  2686\n",
            "old shape =  (263, 17, 138) (263,)\n",
            "trail =  37  empty values =  441\n",
            "trail =  229  empty values =  2245\n",
            "new X shape =  (261, 17, 138) (261,)\n",
            "0\n"
          ]
        }
      ]
    },
    {
      "cell_type": "code",
      "source": [
        "plt.rcParams[\"figure.figsize\"] = (30,15)\n",
        "l = pd.DataFrame(X[0])\n",
        "l.boxplot()\n",
        "plt.show()"
      ],
      "metadata": {
        "colab": {
          "base_uri": "https://localhost:8080/",
          "height": 863
        },
        "id": "XKMts5xD1a1C",
        "outputId": "20bdc9de-2888-4998-87df-2c31f7373bae"
      },
      "execution_count": null,
      "outputs": [
        {
          "output_type": "display_data",
          "data": {
            "text/plain": [
              "<Figure size 2160x1080 with 1 Axes>"
            ],
            "image/png": "[encoded data removed]"
          },
          "metadata": {
            "needs_background": "light"
          }
        }
      ]
    },
    {
      "cell_type": "code",
      "source": [
        "ma,mi = np.max(X.flatten()),np.min(X.flatten())\n",
        "print(ma)\n",
        "j = np.where(X == ma)\n",
        "print(j)\n",
        "k = np.where(X == mi)\n",
        "print(k)"
      ],
      "metadata": {
        "colab": {
          "base_uri": "https://localhost:8080/"
        },
        "id": "4feOgA2a4WLo",
        "outputId": "e00d675d-f9bb-4c58-bed7-6c4a0b003584"
      },
      "execution_count": null,
      "outputs": [
        {
          "output_type": "stream",
          "name": "stdout",
          "text": [
            "6.1336303\n",
            "(array([46]), array([9]), array([78]))\n",
            "(array([226]), array([13]), array([76]))\n"
          ]
        }
      ]
    },
    {
      "cell_type": "code",
      "source": [
        "m = pd.DataFrame(X[46])\n",
        "m.boxplot()\n",
        "plt.show()"
      ],
      "metadata": {
        "colab": {
          "base_uri": "https://localhost:8080/",
          "height": 483
        },
        "id": "r4mR71Ym6fts",
        "outputId": "8a6ac8b2-92bb-46e4-b07a-ede8b08d066a"
      },
      "execution_count": null,
      "outputs": [
        {
          "output_type": "display_data",
          "data": {
            "text/plain": [
              "<Figure size 1440x576 with 1 Axes>"
            ],
            "image/png": "[encoded data removed]"
          },
          "metadata": {
            "needs_background": "light"
          }
        }
      ]
    },
    {
      "cell_type": "code",
      "source": [
        "m = pd.DataFrame(X[226])\n",
        "m.boxplot()\n",
        "plt.show()"
      ],
      "metadata": {
        "colab": {
          "base_uri": "https://localhost:8080/",
          "height": 483
        },
        "id": "bM9nbeqX7GKb",
        "outputId": "a68947c6-7158-406f-fa37-0bb49593aaa7"
      },
      "execution_count": null,
      "outputs": [
        {
          "output_type": "display_data",
          "data": {
            "text/plain": [
              "<Figure size 1440x576 with 1 Axes>"
            ],
            "image/png": "[encoded data removed]"
          },
          "metadata": {
            "needs_background": "light"
          }
        }
      ]
    },
    {
      "cell_type": "code",
      "source": [
        "#normalizing values between 0 and 1\n",
        "X,y = normalize(X,y)"
      ],
      "metadata": {
        "colab": {
          "base_uri": "https://localhost:8080/"
        },
        "id": "6vfLexK2ivhG",
        "outputId": "b6860e31-e2b0-4bf7-8f8c-233b6270a0cc"
      },
      "execution_count": null,
      "outputs": [
        {
          "output_type": "stream",
          "name": "stdout",
          "text": [
            "6.1336303 -0.16922076\n"
          ]
        }
      ]
    },
    {
      "cell_type": "code",
      "source": [
        "print(X.shape,y.shape)"
      ],
      "metadata": {
        "colab": {
          "base_uri": "https://localhost:8080/"
        },
        "id": "WwtIFFshl9BA",
        "outputId": "e124a5dd-8551-4836-db43-e42d339d8ed1"
      },
      "execution_count": null,
      "outputs": [
        {
          "output_type": "stream",
          "name": "stdout",
          "text": [
            "(261, 17, 138) (261,)\n"
          ]
        }
      ]
    },
    {
      "cell_type": "code",
      "source": [
        "  np.save(\"/content/drive/MyDrive/dissertation/rat1_X\",X)\n",
        "  np.save(\"/content/drive/MyDrive/dissertation/rat1_y\",y)"
      ],
      "metadata": {
        "id": "Ct7USow1mAJY"
      },
      "execution_count": null,
      "outputs": []
    },
    {
      "cell_type": "code",
      "source": [
        "X_train,X_test,y_train,y_test = train_test_split(X,y,test_size = 0.1, random_state = 8)\n",
        "X_trn,X_val,y_trn,y_val = train_test_split(X_train,y_train,test_size = 0.1, random_state = 8)\n",
        "print(X_trn.shape,X_val.shape,X_test.shape)"
      ],
      "metadata": {
        "id": "BF_w3_5wIX7S",
        "colab": {
          "base_uri": "https://localhost:8080/"
        },
        "outputId": "b049ba1d-0b4c-4840-81e5-90eb2d372c6c"
      },
      "execution_count": null,
      "outputs": [
        {
          "output_type": "stream",
          "name": "stdout",
          "text": [
            "(210, 17, 138) (24, 17, 138) (27, 17, 138)\n"
          ]
        }
      ]
    },
    {
      "cell_type": "code",
      "source": [
        "def new_dataset(r):\n",
        "  X,y = create_dataset(r)\n",
        "  X,y = remove_empty(X,y)\n",
        "  X,y = normalize(X,y)\n",
        "  X_train,X_test,y_train,y_test = train_test_split(X,y,test_size = 0.1, random_state = 8)\n",
        "  X_trn,X_val,y_trn,y_val = train_test_split(X_train,y_train,test_size = 0.1, random_state = 8)\n",
        "  return X_trn,X_val,X_test,y_trn,y_val,y_test"
      ],
      "metadata": {
        "id": "IMdDLp8ZCDHh"
      },
      "execution_count": null,
      "outputs": []
    },
    {
      "cell_type": "code",
      "source": [
        "r2 = data['rmat_pre'][2]\n",
        "X_trn,X_val,X_test,y_trn,y_val,y_test = new_dataset(r2)"
      ],
      "metadata": {
        "colab": {
          "base_uri": "https://localhost:8080/"
        },
        "id": "3JW2yMyXCiOR",
        "outputId": "08fc4013-0c37-49fd-a320-e435884b9dff"
      },
      "execution_count": null,
      "outputs": [
        {
          "output_type": "stream",
          "name": "stdout",
          "text": [
            "total no of empty values in X =  684\n",
            "old shape =  (279, 17, 110) (279,)\n",
            "trail =  31  empty values =  53\n",
            "trail =  95  empty values =  550\n",
            "trail =  152  empty values =  81\n",
            "new X shape =  (276, 17, 110) (276,)\n",
            "4.62151 -0.13612801\n"
          ]
        }
      ]
    },
    {
      "cell_type": "markdown",
      "source": [
        "### model creation for r[0]"
      ],
      "metadata": {
        "id": "-HCyoNwNHkr_"
      }
    },
    {
      "cell_type": "code",
      "source": [
        "import tensorflow as tf\n",
        "import keras\n",
        "from keras.models import Sequential\n",
        "from keras.layers import Dense\n",
        "from keras.layers import LSTM\n",
        "from keras.layers import Activation\n",
        "from keras import layers,models"
      ],
      "metadata": {
        "id": "XfbsaNuWHw74"
      },
      "execution_count": null,
      "outputs": []
    },
    {
      "cell_type": "code",
      "source": [
        "def create_model(units,units1,activation):\n",
        "  input_shape = (17,138) #17 timestamps and 138 features\n",
        "  basic_lstm = Sequential()\n",
        "  basic_lstm.add(LSTM(units=units,input_shape = input_shape))\n",
        "  basic_lstm.add(Dense(units = units1,activation = activation))\n",
        "  basic_lstm.add(Dense(3,activation = 'softmax'))\n",
        "  return basic_lstm"
      ],
      "metadata": {
        "id": "P3r0w27gHwzU"
      },
      "execution_count": null,
      "outputs": []
    },
    {
      "cell_type": "code",
      "source": [
        "lstm_1 = create_model(units = 22,units1 = 13,activation='relu')\n",
        "lstm_1.summary()"
      ],
      "metadata": {
        "colab": {
          "base_uri": "https://localhost:8080/"
        },
        "id": "2qN4RZ7fHwwp",
        "outputId": "1aff04d0-e34f-4cb0-bbdb-fa700d11a317"
      },
      "execution_count": null,
      "outputs": [
        {
          "output_type": "stream",
          "name": "stdout",
          "text": [
            "Model: \"sequential_2\"\n",
            "_________________________________________________________________\n",
            " Layer (type)                Output Shape              Param #   \n",
            "=================================================================\n",
            " lstm_2 (LSTM)               (None, 22)                14168     \n",
            "                                                                 \n",
            " dense (Dense)               (None, 13)                299       \n",
            "                                                                 \n",
            " dense_1 (Dense)             (None, 3)                 42        \n",
            "                                                                 \n",
            "=================================================================\n",
            "Total params: 14,509\n",
            "Trainable params: 14,509\n",
            "Non-trainable params: 0\n",
            "_________________________________________________________________\n"
          ]
        }
      ]
    },
    {
      "cell_type": "code",
      "source": [
        "#early_stop = tf.keras.callbacks.EarlyStopping(monitor = 'val_loss',patience=5)\n",
        "l = tf.keras.losses.SparseCategoricalCrossentropy()\n",
        "opt = tf.keras.optimizers.Adam(learning_rate= 0.0022556)\n",
        "lstm_1.compile(loss= l, optimizer = opt,metrics=['accuracy'])\n",
        "history = lstm_1.fit(X_trn,y_trn,batch_size = 32,epochs = 50,verbose = 2,steps_per_epoch = X_trn.shape[0]/50,validation_data=(X_val,y_val))"
      ],
      "metadata": {
        "id": "7_cZEtsj36K3",
        "colab": {
          "base_uri": "https://localhost:8080/"
        },
        "outputId": "159819b6-15d9-4152-d9d0-c7347654750a"
      },
      "execution_count": null,
      "outputs": [
        {
          "output_type": "stream",
          "name": "stdout",
          "text": [
            "Epoch 1/50\n",
            "4/4 - 3s - loss: 1.0667 - accuracy: 0.5500 - val_loss: 0.9728 - val_accuracy: 0.5833 - 3s/epoch - 727ms/step\n",
            "Epoch 2/50\n",
            "4/4 - 0s - loss: 1.0100 - accuracy: 0.5205 - val_loss: 0.8977 - val_accuracy: 0.5833 - 72ms/epoch - 17ms/step\n",
            "Epoch 3/50\n",
            "4/4 - 0s - loss: 0.9636 - accuracy: 0.5000 - val_loss: 0.8511 - val_accuracy: 0.6667 - 81ms/epoch - 19ms/step\n",
            "Epoch 4/50\n",
            "4/4 - 0s - loss: 0.9403 - accuracy: 0.6313 - val_loss: 0.7891 - val_accuracy: 0.7917 - 76ms/epoch - 18ms/step\n",
            "Epoch 5/50\n",
            "4/4 - 0s - loss: 0.8070 - accuracy: 0.6918 - val_loss: 0.6579 - val_accuracy: 0.7500 - 74ms/epoch - 18ms/step\n",
            "Epoch 6/50\n",
            "4/4 - 0s - loss: 0.7619 - accuracy: 0.7055 - val_loss: 0.5346 - val_accuracy: 0.8750 - 72ms/epoch - 17ms/step\n",
            "Epoch 7/50\n",
            "4/4 - 0s - loss: 0.6485 - accuracy: 0.7123 - val_loss: 0.4738 - val_accuracy: 0.8333 - 83ms/epoch - 20ms/step\n",
            "Epoch 8/50\n",
            "4/4 - 0s - loss: 0.5494 - accuracy: 0.7563 - val_loss: 0.3571 - val_accuracy: 0.8333 - 74ms/epoch - 18ms/step\n",
            "Epoch 9/50\n",
            "4/4 - 0s - loss: 0.5351 - accuracy: 0.7329 - val_loss: 0.4747 - val_accuracy: 0.7917 - 76ms/epoch - 18ms/step\n",
            "Epoch 10/50\n",
            "4/4 - 0s - loss: 0.4993 - accuracy: 0.7466 - val_loss: 0.2894 - val_accuracy: 0.8750 - 71ms/epoch - 17ms/step\n",
            "Epoch 11/50\n",
            "4/4 - 0s - loss: 0.4080 - accuracy: 0.7812 - val_loss: 0.3328 - val_accuracy: 0.8750 - 75ms/epoch - 18ms/step\n",
            "Epoch 12/50\n",
            "4/4 - 0s - loss: 0.3554 - accuracy: 0.8151 - val_loss: 0.2644 - val_accuracy: 0.8750 - 73ms/epoch - 17ms/step\n",
            "Epoch 13/50\n",
            "4/4 - 0s - loss: 0.3893 - accuracy: 0.7466 - val_loss: 0.2545 - val_accuracy: 0.8750 - 79ms/epoch - 19ms/step\n",
            "Epoch 14/50\n",
            "4/4 - 0s - loss: 0.3596 - accuracy: 0.7740 - val_loss: 0.2499 - val_accuracy: 0.8750 - 72ms/epoch - 17ms/step\n",
            "Epoch 15/50\n",
            "4/4 - 0s - loss: 0.3864 - accuracy: 0.7625 - val_loss: 0.2521 - val_accuracy: 0.8750 - 78ms/epoch - 19ms/step\n",
            "Epoch 16/50\n",
            "4/4 - 0s - loss: 0.3063 - accuracy: 0.8288 - val_loss: 0.2429 - val_accuracy: 0.8750 - 77ms/epoch - 18ms/step\n",
            "Epoch 17/50\n",
            "4/4 - 0s - loss: 0.3323 - accuracy: 0.7740 - val_loss: 0.3098 - val_accuracy: 0.8333 - 78ms/epoch - 19ms/step\n",
            "Epoch 18/50\n",
            "4/4 - 0s - loss: 0.3222 - accuracy: 0.8250 - val_loss: 0.2331 - val_accuracy: 0.9167 - 86ms/epoch - 20ms/step\n",
            "Epoch 19/50\n",
            "4/4 - 0s - loss: 0.3002 - accuracy: 0.8425 - val_loss: 0.2434 - val_accuracy: 0.9167 - 85ms/epoch - 20ms/step\n",
            "Epoch 20/50\n",
            "4/4 - 0s - loss: 0.3130 - accuracy: 0.8767 - val_loss: 0.2510 - val_accuracy: 0.9583 - 82ms/epoch - 20ms/step\n",
            "Epoch 21/50\n",
            "4/4 - 0s - loss: 0.2740 - accuracy: 0.8904 - val_loss: 0.2106 - val_accuracy: 0.9583 - 79ms/epoch - 19ms/step\n",
            "Epoch 22/50\n",
            "4/4 - 0s - loss: 0.2686 - accuracy: 0.8500 - val_loss: 0.1947 - val_accuracy: 0.9583 - 76ms/epoch - 18ms/step\n",
            "Epoch 23/50\n",
            "4/4 - 0s - loss: 0.2767 - accuracy: 0.8973 - val_loss: 0.1941 - val_accuracy: 1.0000 - 78ms/epoch - 19ms/step\n",
            "Epoch 24/50\n",
            "4/4 - 0s - loss: 0.2238 - accuracy: 0.9521 - val_loss: 0.1810 - val_accuracy: 0.9583 - 79ms/epoch - 19ms/step\n",
            "Epoch 25/50\n",
            "4/4 - 0s - loss: 0.2517 - accuracy: 0.8625 - val_loss: 0.2045 - val_accuracy: 0.9167 - 83ms/epoch - 20ms/step\n",
            "Epoch 26/50\n",
            "4/4 - 0s - loss: 0.2653 - accuracy: 0.9589 - val_loss: 0.3279 - val_accuracy: 0.9583 - 77ms/epoch - 18ms/step\n",
            "Epoch 27/50\n",
            "4/4 - 0s - loss: 0.2315 - accuracy: 0.9110 - val_loss: 0.1785 - val_accuracy: 0.9167 - 71ms/epoch - 17ms/step\n",
            "Epoch 28/50\n",
            "4/4 - 0s - loss: 0.2067 - accuracy: 0.9521 - val_loss: 0.2743 - val_accuracy: 0.9583 - 71ms/epoch - 17ms/step\n",
            "Epoch 29/50\n",
            "4/4 - 0s - loss: 0.2739 - accuracy: 0.9250 - val_loss: 0.1253 - val_accuracy: 1.0000 - 80ms/epoch - 19ms/step\n",
            "Epoch 30/50\n",
            "4/4 - 0s - loss: 0.4336 - accuracy: 0.8151 - val_loss: 0.2354 - val_accuracy: 0.8333 - 77ms/epoch - 18ms/step\n",
            "Epoch 31/50\n",
            "4/4 - 0s - loss: 0.3459 - accuracy: 0.8904 - val_loss: 0.1708 - val_accuracy: 0.9583 - 166ms/epoch - 40ms/step\n",
            "Epoch 32/50\n",
            "4/4 - 0s - loss: 0.2687 - accuracy: 0.8188 - val_loss: 0.2820 - val_accuracy: 0.9583 - 120ms/epoch - 29ms/step\n",
            "Epoch 33/50\n",
            "4/4 - 0s - loss: 0.3263 - accuracy: 0.9178 - val_loss: 0.2332 - val_accuracy: 0.8750 - 92ms/epoch - 22ms/step\n",
            "Epoch 34/50\n",
            "4/4 - 0s - loss: 0.2008 - accuracy: 0.9384 - val_loss: 0.1542 - val_accuracy: 0.9583 - 83ms/epoch - 20ms/step\n",
            "Epoch 35/50\n",
            "4/4 - 0s - loss: 0.1646 - accuracy: 0.9589 - val_loss: 0.1095 - val_accuracy: 1.0000 - 89ms/epoch - 21ms/step\n",
            "Epoch 36/50\n",
            "4/4 - 0s - loss: 0.1556 - accuracy: 0.9250 - val_loss: 0.1323 - val_accuracy: 0.9583 - 101ms/epoch - 24ms/step\n",
            "Epoch 37/50\n",
            "4/4 - 0s - loss: 0.1318 - accuracy: 0.9658 - val_loss: 0.1591 - val_accuracy: 0.9167 - 87ms/epoch - 21ms/step\n",
            "Epoch 38/50\n",
            "4/4 - 0s - loss: 0.1197 - accuracy: 0.9795 - val_loss: 0.0810 - val_accuracy: 1.0000 - 110ms/epoch - 26ms/step\n",
            "Epoch 39/50\n",
            "4/4 - 0s - loss: 0.1090 - accuracy: 0.9812 - val_loss: 0.1157 - val_accuracy: 0.9583 - 82ms/epoch - 20ms/step\n",
            "Epoch 40/50\n",
            "4/4 - 0s - loss: 0.0954 - accuracy: 0.9932 - val_loss: 0.0960 - val_accuracy: 0.9583 - 81ms/epoch - 19ms/step\n",
            "Epoch 41/50\n",
            "4/4 - 0s - loss: 0.0601 - accuracy: 0.9932 - val_loss: 0.0554 - val_accuracy: 1.0000 - 106ms/epoch - 25ms/step\n",
            "Epoch 42/50\n",
            "4/4 - 0s - loss: 0.0846 - accuracy: 0.9932 - val_loss: 0.1040 - val_accuracy: 0.9583 - 81ms/epoch - 19ms/step\n",
            "Epoch 43/50\n",
            "4/4 - 0s - loss: 0.0654 - accuracy: 0.9937 - val_loss: 0.0426 - val_accuracy: 1.0000 - 89ms/epoch - 21ms/step\n",
            "Epoch 44/50\n",
            "4/4 - 0s - loss: 0.0517 - accuracy: 1.0000 - val_loss: 0.0557 - val_accuracy: 1.0000 - 96ms/epoch - 23ms/step\n",
            "Epoch 45/50\n",
            "4/4 - 0s - loss: 0.0399 - accuracy: 0.9932 - val_loss: 0.0435 - val_accuracy: 1.0000 - 89ms/epoch - 21ms/step\n",
            "Epoch 46/50\n",
            "4/4 - 0s - loss: 0.0528 - accuracy: 0.9875 - val_loss: 0.0652 - val_accuracy: 1.0000 - 88ms/epoch - 21ms/step\n",
            "Epoch 47/50\n",
            "4/4 - 0s - loss: 0.0458 - accuracy: 0.9932 - val_loss: 0.0289 - val_accuracy: 1.0000 - 96ms/epoch - 23ms/step\n",
            "Epoch 48/50\n",
            "4/4 - 0s - loss: 0.0327 - accuracy: 1.0000 - val_loss: 0.0220 - val_accuracy: 1.0000 - 101ms/epoch - 24ms/step\n",
            "Epoch 49/50\n",
            "4/4 - 0s - loss: 0.0265 - accuracy: 1.0000 - val_loss: 0.0772 - val_accuracy: 0.9583 - 99ms/epoch - 24ms/step\n",
            "Epoch 50/50\n",
            "4/4 - 0s - loss: 0.0259 - accuracy: 1.0000 - val_loss: 0.0173 - val_accuracy: 1.0000 - 108ms/epoch - 26ms/step\n"
          ]
        }
      ]
    },
    {
      "cell_type": "markdown",
      "source": [
        "## lstm_1"
      ],
      "metadata": {
        "id": "AvzLXiWjgnK-"
      }
    },
    {
      "cell_type": "code",
      "source": [
        "m = history.history"
      ],
      "metadata": {
        "id": "-THXUTAGMjrY"
      },
      "execution_count": null,
      "outputs": []
    },
    {
      "cell_type": "code",
      "source": [
        "plt.rcParams[\"figure.figsize\"] = (8,6)\n",
        "epochs = list(range(1,51))\n",
        "plt.plot(epochs,m['loss'],'r',label = 'train_loss')\n",
        "plt.plot(epochs,m['val_loss'],'b',label = 'val_loss')\n",
        "plt.grid()\n",
        "plt.legend()\n",
        "plt.show()"
      ],
      "metadata": {
        "id": "X3xTAg47Mjoz",
        "colab": {
          "base_uri": "https://localhost:8080/",
          "height": 374
        },
        "outputId": "8eda8b27-e261-4bb5-84c9-dfabf876d2be"
      },
      "execution_count": null,
      "outputs": [
        {
          "output_type": "display_data",
          "data": {
            "text/plain": [
              "<Figure size 576x432 with 1 Axes>"
            ],
            "image/png": "[encoded data removed]"
          },
          "metadata": {
            "needs_background": "light"
          }
        }
      ]
    },
    {
      "cell_type": "code",
      "source": [
        "plt.plot(epochs,m['accuracy'],'r',label = 'train_acc')\n",
        "plt.plot(epochs,m['val_accuracy'],'b',label = 'val_acc')\n",
        "plt.grid()\n",
        "plt.legend()\n",
        "plt.show()"
      ],
      "metadata": {
        "id": "eUICK2LTMjmP",
        "colab": {
          "base_uri": "https://localhost:8080/",
          "height": 374
        },
        "outputId": "5924f2c6-069d-4854-acdc-b0208dbb631f"
      },
      "execution_count": null,
      "outputs": [
        {
          "output_type": "display_data",
          "data": {
            "text/plain": [
              "<Figure size 576x432 with 1 Axes>"
            ],
            "image/png": "[encoded data removed]"
          },
          "metadata": {
            "needs_background": "light"
          }
        }
      ]
    },
    {
      "cell_type": "code",
      "source": [
        "from sklearn.metrics import confusion_matrix\n",
        "y_pred = lstm_1.predict(X_test,batch_size = 1)\n",
        "#print(y_pred)"
      ],
      "metadata": {
        "id": "DmYAMFpMYjin"
      },
      "execution_count": null,
      "outputs": []
    },
    {
      "cell_type": "code",
      "source": [
        "from sklearn.metrics import accuracy_score\n",
        "ypred = np.argmax(y_pred,axis=1)\n",
        "accuracy_score(y_test,ypred)"
      ],
      "metadata": {
        "colab": {
          "base_uri": "https://localhost:8080/"
        },
        "id": "H292S7-cZY6p",
        "outputId": "713ae7a4-00a6-4082-f867-4a741633f85b"
      },
      "execution_count": null,
      "outputs": [
        {
          "output_type": "execute_result",
          "data": {
            "text/plain": [
              "0.8888888888888888"
            ]
          },
          "metadata": {},
          "execution_count": 28
        }
      ]
    },
    {
      "cell_type": "code",
      "source": [
        "lstm_1.save(\"/content/drive/MyDrive/dissertation/time_series_classification/baseline_lstm1.h5\")"
      ],
      "metadata": {
        "id": "SGuTqfVlbxRg"
      },
      "execution_count": null,
      "outputs": []
    },
    {
      "cell_type": "markdown",
      "source": [
        "## lstm2"
      ],
      "metadata": {
        "id": "IkTjbXb7gsHL"
      }
    },
    {
      "cell_type": "code",
      "source": [
        "#early_stop = tf.keras.callbacks.EarlyStopping(monitor = 'val_loss',patience=5)\n",
        "lstm_2 = create_model(12,5,'tanh')\n",
        "l = tf.keras.losses.SparseCategoricalCrossentropy()\n",
        "opt = tf.keras.optimizers.Adam(learning_rate =  0.003468)\n",
        "lstm_2.compile(loss= l, optimizer = opt,metrics=['accuracy'])\n",
        "history_2 = lstm_2.fit(X_trn,y_trn,batch_size = 32,epochs = 50,verbose = 2,steps_per_epoch = X_trn.shape[0]/50,validation_data=(X_val,y_val))"
      ],
      "metadata": {
        "id": "3x8_TGpvMjxB",
        "colab": {
          "base_uri": "https://localhost:8080/"
        },
        "outputId": "8295b32e-ceb3-4a04-db77-48841951c571"
      },
      "execution_count": null,
      "outputs": [
        {
          "output_type": "stream",
          "name": "stdout",
          "text": [
            "Epoch 1/50\n",
            "4/4 - 3s - loss: 1.0579 - accuracy: 0.4938 - val_loss: 0.9397 - val_accuracy: 0.5833 - 3s/epoch - 642ms/step\n",
            "Epoch 2/50\n",
            "4/4 - 0s - loss: 1.0202 - accuracy: 0.4932 - val_loss: 0.9248 - val_accuracy: 0.5833 - 71ms/epoch - 17ms/step\n",
            "Epoch 3/50\n",
            "4/4 - 0s - loss: 1.0476 - accuracy: 0.4726 - val_loss: 0.9181 - val_accuracy: 0.5833 - 70ms/epoch - 17ms/step\n",
            "Epoch 4/50\n",
            "4/4 - 0s - loss: 1.0007 - accuracy: 0.4875 - val_loss: 0.9158 - val_accuracy: 0.5833 - 75ms/epoch - 18ms/step\n",
            "Epoch 5/50\n",
            "4/4 - 0s - loss: 0.9868 - accuracy: 0.4795 - val_loss: 0.8763 - val_accuracy: 0.5833 - 69ms/epoch - 16ms/step\n",
            "Epoch 6/50\n",
            "4/4 - 0s - loss: 0.9520 - accuracy: 0.5068 - val_loss: 0.8048 - val_accuracy: 0.7083 - 69ms/epoch - 16ms/step\n",
            "Epoch 7/50\n",
            "4/4 - 0s - loss: 0.8208 - accuracy: 0.6918 - val_loss: 0.6858 - val_accuracy: 0.8333 - 79ms/epoch - 19ms/step\n",
            "Epoch 8/50\n",
            "4/4 - 0s - loss: 0.7068 - accuracy: 0.7812 - val_loss: 0.5458 - val_accuracy: 0.8333 - 70ms/epoch - 17ms/step\n",
            "Epoch 9/50\n",
            "4/4 - 0s - loss: 0.6497 - accuracy: 0.7192 - val_loss: 0.4927 - val_accuracy: 0.7083 - 77ms/epoch - 18ms/step\n",
            "Epoch 10/50\n",
            "4/4 - 0s - loss: 0.5257 - accuracy: 0.8151 - val_loss: 0.4679 - val_accuracy: 0.7083 - 83ms/epoch - 20ms/step\n",
            "Epoch 11/50\n",
            "4/4 - 0s - loss: 0.5124 - accuracy: 0.7563 - val_loss: 0.3975 - val_accuracy: 0.8750 - 78ms/epoch - 19ms/step\n",
            "Epoch 12/50\n",
            "4/4 - 0s - loss: 0.4568 - accuracy: 0.8082 - val_loss: 0.3908 - val_accuracy: 0.8333 - 74ms/epoch - 18ms/step\n",
            "Epoch 13/50\n",
            "4/4 - 0s - loss: 0.5047 - accuracy: 0.7808 - val_loss: 0.3516 - val_accuracy: 0.8750 - 74ms/epoch - 18ms/step\n",
            "Epoch 14/50\n",
            "4/4 - 0s - loss: 0.4364 - accuracy: 0.7603 - val_loss: 0.3281 - val_accuracy: 0.8750 - 69ms/epoch - 16ms/step\n",
            "Epoch 15/50\n",
            "4/4 - 0s - loss: 0.4102 - accuracy: 0.7750 - val_loss: 0.3281 - val_accuracy: 0.8333 - 72ms/epoch - 17ms/step\n",
            "Epoch 16/50\n",
            "4/4 - 0s - loss: 0.4289 - accuracy: 0.8493 - val_loss: 0.3278 - val_accuracy: 0.7917 - 84ms/epoch - 20ms/step\n",
            "Epoch 17/50\n",
            "4/4 - 0s - loss: 0.3433 - accuracy: 0.8699 - val_loss: 0.2996 - val_accuracy: 0.8750 - 75ms/epoch - 18ms/step\n",
            "Epoch 18/50\n",
            "4/4 - 0s - loss: 0.3754 - accuracy: 0.8562 - val_loss: 0.3336 - val_accuracy: 0.8333 - 72ms/epoch - 17ms/step\n",
            "Epoch 19/50\n",
            "4/4 - 0s - loss: 0.4054 - accuracy: 0.8151 - val_loss: 0.2744 - val_accuracy: 0.8750 - 76ms/epoch - 18ms/step\n",
            "Epoch 20/50\n",
            "4/4 - 0s - loss: 0.4086 - accuracy: 0.8014 - val_loss: 0.3059 - val_accuracy: 0.8333 - 87ms/epoch - 21ms/step\n",
            "Epoch 21/50\n",
            "4/4 - 0s - loss: 0.3169 - accuracy: 0.9452 - val_loss: 0.2748 - val_accuracy: 0.9167 - 69ms/epoch - 17ms/step\n",
            "Epoch 22/50\n",
            "4/4 - 0s - loss: 0.3696 - accuracy: 0.8813 - val_loss: 0.2985 - val_accuracy: 0.8333 - 89ms/epoch - 21ms/step\n",
            "Epoch 23/50\n",
            "4/4 - 0s - loss: 0.3607 - accuracy: 0.8973 - val_loss: 0.2687 - val_accuracy: 0.9167 - 84ms/epoch - 20ms/step\n",
            "Epoch 24/50\n",
            "4/4 - 0s - loss: 0.3877 - accuracy: 0.8562 - val_loss: 0.2484 - val_accuracy: 0.8750 - 76ms/epoch - 18ms/step\n",
            "Epoch 25/50\n",
            "4/4 - 0s - loss: 0.2923 - accuracy: 0.9062 - val_loss: 0.2532 - val_accuracy: 0.8750 - 73ms/epoch - 17ms/step\n",
            "Epoch 26/50\n",
            "4/4 - 0s - loss: 0.2841 - accuracy: 0.9521 - val_loss: 0.2393 - val_accuracy: 0.8750 - 79ms/epoch - 19ms/step\n",
            "Epoch 27/50\n",
            "4/4 - 0s - loss: 0.2551 - accuracy: 0.9247 - val_loss: 0.2670 - val_accuracy: 0.8333 - 69ms/epoch - 17ms/step\n",
            "Epoch 28/50\n",
            "4/4 - 0s - loss: 0.2686 - accuracy: 0.9315 - val_loss: 0.2227 - val_accuracy: 0.8750 - 64ms/epoch - 15ms/step\n",
            "Epoch 29/50\n",
            "4/4 - 0s - loss: 0.2327 - accuracy: 0.9062 - val_loss: 0.2851 - val_accuracy: 0.8333 - 76ms/epoch - 18ms/step\n",
            "Epoch 30/50\n",
            "4/4 - 0s - loss: 0.2597 - accuracy: 0.8973 - val_loss: 0.2019 - val_accuracy: 0.9167 - 72ms/epoch - 17ms/step\n",
            "Epoch 31/50\n",
            "4/4 - 0s - loss: 0.2157 - accuracy: 0.9589 - val_loss: 0.3010 - val_accuracy: 0.8333 - 80ms/epoch - 19ms/step\n",
            "Epoch 32/50\n",
            "4/4 - 0s - loss: 0.2580 - accuracy: 0.9125 - val_loss: 0.2031 - val_accuracy: 0.9583 - 73ms/epoch - 17ms/step\n",
            "Epoch 33/50\n",
            "4/4 - 0s - loss: 0.2148 - accuracy: 0.9178 - val_loss: 0.3125 - val_accuracy: 0.8333 - 73ms/epoch - 17ms/step\n",
            "Epoch 34/50\n",
            "4/4 - 0s - loss: 0.2607 - accuracy: 0.8973 - val_loss: 0.1765 - val_accuracy: 0.9583 - 76ms/epoch - 18ms/step\n",
            "Epoch 35/50\n",
            "4/4 - 0s - loss: 0.2600 - accuracy: 0.8836 - val_loss: 0.1740 - val_accuracy: 0.9167 - 86ms/epoch - 20ms/step\n",
            "Epoch 36/50\n",
            "4/4 - 0s - loss: 0.1997 - accuracy: 0.9312 - val_loss: 0.2451 - val_accuracy: 0.8333 - 76ms/epoch - 18ms/step\n",
            "Epoch 37/50\n",
            "4/4 - 0s - loss: 0.1930 - accuracy: 0.9384 - val_loss: 0.1615 - val_accuracy: 0.9583 - 75ms/epoch - 18ms/step\n",
            "Epoch 38/50\n",
            "4/4 - 0s - loss: 0.1627 - accuracy: 0.9726 - val_loss: 0.1437 - val_accuracy: 1.0000 - 70ms/epoch - 17ms/step\n",
            "Epoch 39/50\n",
            "4/4 - 0s - loss: 0.1647 - accuracy: 0.9750 - val_loss: 0.1660 - val_accuracy: 0.9167 - 76ms/epoch - 18ms/step\n",
            "Epoch 40/50\n",
            "4/4 - 0s - loss: 0.1648 - accuracy: 0.9589 - val_loss: 0.1371 - val_accuracy: 0.9583 - 84ms/epoch - 20ms/step\n",
            "Epoch 41/50\n",
            "4/4 - 0s - loss: 0.1192 - accuracy: 0.9863 - val_loss: 0.1322 - val_accuracy: 0.9167 - 74ms/epoch - 18ms/step\n",
            "Epoch 42/50\n",
            "4/4 - 0s - loss: 0.1232 - accuracy: 0.9726 - val_loss: 0.1137 - val_accuracy: 1.0000 - 72ms/epoch - 17ms/step\n",
            "Epoch 43/50\n",
            "4/4 - 0s - loss: 0.1081 - accuracy: 0.9812 - val_loss: 0.1054 - val_accuracy: 1.0000 - 74ms/epoch - 18ms/step\n",
            "Epoch 44/50\n",
            "4/4 - 0s - loss: 0.0941 - accuracy: 0.9863 - val_loss: 0.0982 - val_accuracy: 1.0000 - 78ms/epoch - 19ms/step\n",
            "Epoch 45/50\n",
            "4/4 - 0s - loss: 0.0959 - accuracy: 0.9726 - val_loss: 0.0894 - val_accuracy: 0.9583 - 75ms/epoch - 18ms/step\n",
            "Epoch 46/50\n",
            "4/4 - 0s - loss: 0.1200 - accuracy: 0.9750 - val_loss: 0.0868 - val_accuracy: 1.0000 - 72ms/epoch - 17ms/step\n",
            "Epoch 47/50\n",
            "4/4 - 0s - loss: 0.0767 - accuracy: 0.9932 - val_loss: 0.0714 - val_accuracy: 1.0000 - 70ms/epoch - 17ms/step\n",
            "Epoch 48/50\n",
            "4/4 - 0s - loss: 0.0839 - accuracy: 0.9863 - val_loss: 0.1280 - val_accuracy: 0.9167 - 82ms/epoch - 19ms/step\n",
            "Epoch 49/50\n",
            "4/4 - 0s - loss: 0.0776 - accuracy: 0.9795 - val_loss: 0.0842 - val_accuracy: 0.9583 - 81ms/epoch - 19ms/step\n",
            "Epoch 50/50\n",
            "4/4 - 0s - loss: 0.0624 - accuracy: 0.9875 - val_loss: 0.1069 - val_accuracy: 0.9583 - 73ms/epoch - 17ms/step\n"
          ]
        }
      ]
    },
    {
      "cell_type": "code",
      "source": [
        "m = history_2.history"
      ],
      "metadata": {
        "id": "J3virAQFgu9O"
      },
      "execution_count": null,
      "outputs": []
    },
    {
      "cell_type": "code",
      "source": [
        "plt.rcParams[\"figure.figsize\"] = (8,6)\n",
        "epochs = list(range(1,51))\n",
        "plt.plot(epochs,m['loss'],'r',label = 'train_loss')\n",
        "plt.plot(epochs,m['val_loss'],'b',label = 'val_loss')\n",
        "plt.grid()\n",
        "plt.legend()\n",
        "plt.show()"
      ],
      "metadata": {
        "colab": {
          "base_uri": "https://localhost:8080/",
          "height": 374
        },
        "id": "GSIbB_ODgu6q",
        "outputId": "8e280a24-4c8c-42f9-dfa7-9aa4a1b6c3c5"
      },
      "execution_count": null,
      "outputs": [
        {
          "output_type": "display_data",
          "data": {
            "text/plain": [
              "<Figure size 576x432 with 1 Axes>"
            ],
            "image/png": "[encoded data removed]"
          },
          "metadata": {
            "needs_background": "light"
          }
        }
      ]
    },
    {
      "cell_type": "code",
      "source": [
        "plt.plot(epochs,m['accuracy'],'r',label = 'train_acc')\n",
        "plt.plot(epochs,m['val_accuracy'],'b',label = 'val_acc')\n",
        "plt.grid()\n",
        "plt.legend()\n",
        "plt.show()"
      ],
      "metadata": {
        "colab": {
          "base_uri": "https://localhost:8080/",
          "height": 374
        },
        "id": "Nh4c00dQgu4X",
        "outputId": "72501a21-13ce-49a7-de96-465c69923bfb"
      },
      "execution_count": null,
      "outputs": [
        {
          "output_type": "display_data",
          "data": {
            "text/plain": [
              "<Figure size 576x432 with 1 Axes>"
            ],
            "image/png": "[encoded data removed]"
          },
          "metadata": {
            "needs_background": "light"
          }
        }
      ]
    },
    {
      "cell_type": "code",
      "source": [
        "from sklearn.metrics import accuracy_score\n",
        "y_pred = lstm_2.predict(X_test,batch_size = 1)\n",
        "ypred = np.argmax(y_pred,axis=1)\n",
        "accuracy_score(y_test,ypred)"
      ],
      "metadata": {
        "colab": {
          "base_uri": "https://localhost:8080/"
        },
        "id": "gRqeJnJWgu11",
        "outputId": "cbb7eb4f-f969-4f9e-e9cd-04c4438e9c36"
      },
      "execution_count": null,
      "outputs": [
        {
          "output_type": "execute_result",
          "data": {
            "text/plain": [
              "0.9629629629629629"
            ]
          },
          "metadata": {},
          "execution_count": 34
        }
      ]
    },
    {
      "cell_type": "code",
      "source": [
        "lstm_2.save(\"/content/drive/MyDrive/dissertation/time_series_classification/baseline_lstm2.h5\")"
      ],
      "metadata": {
        "id": "JEJoptQdguzE"
      },
      "execution_count": null,
      "outputs": []
    },
    {
      "cell_type": "markdown",
      "source": [
        "## lstm3"
      ],
      "metadata": {
        "id": "vyqKNWquilyp"
      }
    },
    {
      "cell_type": "code",
      "source": [
        "#early_stop = tf.keras.callbacks.EarlyStopping(monitor = 'val_loss',patience=5)\n",
        "lstm_3 = create_model(10,10,'sigmoid')\n",
        "l = tf.keras.losses.SparseCategoricalCrossentropy()\n",
        "opt = tf.keras.optimizers.Adam(learning_rate =  0.00709)\n",
        "lstm_3.compile(loss= l, optimizer = opt,metrics=['accuracy'])\n",
        "history_3 = lstm_3.fit(X_trn,y_trn,batch_size = 32,epochs = 50,verbose = 2,steps_per_epoch = X_trn.shape[0]/50,validation_data=(X_val,y_val))"
      ],
      "metadata": {
        "colab": {
          "base_uri": "https://localhost:8080/"
        },
        "outputId": "9a9eeefc-9350-41be-d141-1110bde22fd9",
        "id": "PXhYtB8XiqMA"
      },
      "execution_count": null,
      "outputs": [
        {
          "output_type": "stream",
          "name": "stdout",
          "text": [
            "Epoch 1/50\n",
            "4/4 - 3s - loss: 1.0539 - accuracy: 0.4437 - val_loss: 0.9607 - val_accuracy: 0.5833 - 3s/epoch - 623ms/step\n",
            "Epoch 2/50\n",
            "4/4 - 0s - loss: 1.0117 - accuracy: 0.5274 - val_loss: 0.9394 - val_accuracy: 0.5833 - 67ms/epoch - 16ms/step\n",
            "Epoch 3/50\n",
            "4/4 - 0s - loss: 1.0438 - accuracy: 0.4658 - val_loss: 0.9259 - val_accuracy: 0.5833 - 72ms/epoch - 17ms/step\n",
            "Epoch 4/50\n",
            "4/4 - 0s - loss: 1.0025 - accuracy: 0.4750 - val_loss: 0.8640 - val_accuracy: 0.5833 - 84ms/epoch - 20ms/step\n",
            "Epoch 5/50\n",
            "4/4 - 0s - loss: 0.9196 - accuracy: 0.5616 - val_loss: 0.7825 - val_accuracy: 0.7917 - 80ms/epoch - 19ms/step\n",
            "Epoch 6/50\n",
            "4/4 - 0s - loss: 0.9224 - accuracy: 0.6575 - val_loss: 0.6709 - val_accuracy: 0.8750 - 81ms/epoch - 19ms/step\n",
            "Epoch 7/50\n",
            "4/4 - 0s - loss: 0.6938 - accuracy: 0.7945 - val_loss: 0.6070 - val_accuracy: 0.8333 - 80ms/epoch - 19ms/step\n",
            "Epoch 8/50\n",
            "4/4 - 0s - loss: 0.6377 - accuracy: 0.7625 - val_loss: 0.5296 - val_accuracy: 0.8333 - 70ms/epoch - 17ms/step\n",
            "Epoch 9/50\n",
            "4/4 - 0s - loss: 0.9037 - accuracy: 0.5959 - val_loss: 0.4668 - val_accuracy: 0.8750 - 73ms/epoch - 17ms/step\n",
            "Epoch 10/50\n",
            "4/4 - 0s - loss: 0.6699 - accuracy: 0.7534 - val_loss: 0.4338 - val_accuracy: 0.8750 - 69ms/epoch - 16ms/step\n",
            "Epoch 11/50\n",
            "4/4 - 0s - loss: 0.6292 - accuracy: 0.7063 - val_loss: 0.4717 - val_accuracy: 0.8750 - 73ms/epoch - 17ms/step\n",
            "Epoch 12/50\n",
            "4/4 - 0s - loss: 0.6392 - accuracy: 0.6781 - val_loss: 0.4046 - val_accuracy: 0.8750 - 84ms/epoch - 20ms/step\n",
            "Epoch 13/50\n",
            "4/4 - 0s - loss: 0.5029 - accuracy: 0.7945 - val_loss: 0.3605 - val_accuracy: 0.8750 - 72ms/epoch - 17ms/step\n",
            "Epoch 14/50\n",
            "4/4 - 0s - loss: 0.4644 - accuracy: 0.7808 - val_loss: 0.3384 - val_accuracy: 0.8750 - 73ms/epoch - 17ms/step\n",
            "Epoch 15/50\n",
            "4/4 - 0s - loss: 0.4671 - accuracy: 0.7437 - val_loss: 0.3245 - val_accuracy: 0.8750 - 85ms/epoch - 20ms/step\n",
            "Epoch 16/50\n",
            "4/4 - 0s - loss: 0.4009 - accuracy: 0.8151 - val_loss: 0.3084 - val_accuracy: 0.8750 - 77ms/epoch - 18ms/step\n",
            "Epoch 17/50\n",
            "4/4 - 0s - loss: 0.4554 - accuracy: 0.7397 - val_loss: 0.4069 - val_accuracy: 0.8333 - 67ms/epoch - 16ms/step\n",
            "Epoch 18/50\n",
            "4/4 - 0s - loss: 0.3910 - accuracy: 0.7875 - val_loss: 0.2937 - val_accuracy: 0.9583 - 85ms/epoch - 20ms/step\n",
            "Epoch 19/50\n",
            "4/4 - 0s - loss: 0.3674 - accuracy: 0.8151 - val_loss: 0.2785 - val_accuracy: 0.9583 - 70ms/epoch - 17ms/step\n",
            "Epoch 20/50\n",
            "4/4 - 0s - loss: 0.3957 - accuracy: 0.8014 - val_loss: 0.2617 - val_accuracy: 0.9583 - 70ms/epoch - 17ms/step\n",
            "Epoch 21/50\n",
            "4/4 - 0s - loss: 0.3724 - accuracy: 0.7945 - val_loss: 0.2619 - val_accuracy: 1.0000 - 70ms/epoch - 17ms/step\n",
            "Epoch 22/50\n",
            "4/4 - 0s - loss: 0.3791 - accuracy: 0.8875 - val_loss: 0.2568 - val_accuracy: 0.9583 - 66ms/epoch - 16ms/step\n",
            "Epoch 23/50\n",
            "4/4 - 0s - loss: 0.3616 - accuracy: 0.9315 - val_loss: 0.3397 - val_accuracy: 0.8333 - 72ms/epoch - 17ms/step\n",
            "Epoch 24/50\n",
            "4/4 - 0s - loss: 0.2790 - accuracy: 0.9521 - val_loss: 0.2030 - val_accuracy: 1.0000 - 84ms/epoch - 20ms/step\n",
            "Epoch 25/50\n",
            "4/4 - 0s - loss: 0.3205 - accuracy: 0.9000 - val_loss: 0.2675 - val_accuracy: 0.8750 - 73ms/epoch - 17ms/step\n",
            "Epoch 26/50\n",
            "4/4 - 0s - loss: 0.2811 - accuracy: 0.9452 - val_loss: 0.1901 - val_accuracy: 0.9167 - 85ms/epoch - 20ms/step\n",
            "Epoch 27/50\n",
            "4/4 - 0s - loss: 0.2185 - accuracy: 0.9658 - val_loss: 0.2168 - val_accuracy: 0.9167 - 71ms/epoch - 17ms/step\n",
            "Epoch 28/50\n",
            "4/4 - 0s - loss: 0.2520 - accuracy: 0.9589 - val_loss: 0.1690 - val_accuracy: 0.9583 - 71ms/epoch - 17ms/step\n",
            "Epoch 29/50\n",
            "4/4 - 0s - loss: 0.2291 - accuracy: 0.9500 - val_loss: 0.2594 - val_accuracy: 0.8750 - 79ms/epoch - 19ms/step\n",
            "Epoch 30/50\n",
            "4/4 - 0s - loss: 0.2295 - accuracy: 0.9247 - val_loss: 0.1708 - val_accuracy: 0.9167 - 67ms/epoch - 16ms/step\n",
            "Epoch 31/50\n",
            "4/4 - 0s - loss: 0.1850 - accuracy: 0.9384 - val_loss: 0.2556 - val_accuracy: 0.8750 - 72ms/epoch - 17ms/step\n",
            "Epoch 32/50\n",
            "4/4 - 0s - loss: 0.1961 - accuracy: 0.9625 - val_loss: 0.1594 - val_accuracy: 0.9167 - 70ms/epoch - 17ms/step\n",
            "Epoch 33/50\n",
            "4/4 - 0s - loss: 0.1826 - accuracy: 0.9726 - val_loss: 0.2754 - val_accuracy: 0.8750 - 68ms/epoch - 16ms/step\n",
            "Epoch 34/50\n",
            "4/4 - 0s - loss: 0.1929 - accuracy: 0.9589 - val_loss: 0.1397 - val_accuracy: 0.9583 - 71ms/epoch - 17ms/step\n",
            "Epoch 35/50\n",
            "4/4 - 0s - loss: 0.1841 - accuracy: 0.9521 - val_loss: 0.1016 - val_accuracy: 1.0000 - 74ms/epoch - 18ms/step\n",
            "Epoch 36/50\n",
            "4/4 - 0s - loss: 0.1623 - accuracy: 0.9625 - val_loss: 0.2331 - val_accuracy: 0.8750 - 76ms/epoch - 18ms/step\n",
            "Epoch 37/50\n",
            "4/4 - 0s - loss: 0.0993 - accuracy: 1.0000 - val_loss: 0.1285 - val_accuracy: 0.9167 - 79ms/epoch - 19ms/step\n",
            "Epoch 38/50\n",
            "4/4 - 0s - loss: 0.1091 - accuracy: 0.9863 - val_loss: 0.0898 - val_accuracy: 0.9583 - 66ms/epoch - 16ms/step\n",
            "Epoch 39/50\n",
            "4/4 - 0s - loss: 0.0831 - accuracy: 0.9875 - val_loss: 0.0773 - val_accuracy: 1.0000 - 65ms/epoch - 16ms/step\n",
            "Epoch 40/50\n",
            "4/4 - 0s - loss: 0.1409 - accuracy: 0.9589 - val_loss: 0.3330 - val_accuracy: 0.8333 - 69ms/epoch - 16ms/step\n",
            "Epoch 41/50\n",
            "4/4 - 0s - loss: 0.1462 - accuracy: 0.9521 - val_loss: 0.0626 - val_accuracy: 1.0000 - 73ms/epoch - 17ms/step\n",
            "Epoch 42/50\n",
            "4/4 - 0s - loss: 0.1132 - accuracy: 0.9795 - val_loss: 0.1329 - val_accuracy: 0.9167 - 72ms/epoch - 17ms/step\n",
            "Epoch 43/50\n",
            "4/4 - 0s - loss: 0.1270 - accuracy: 0.9625 - val_loss: 0.2997 - val_accuracy: 0.8750 - 76ms/epoch - 18ms/step\n",
            "Epoch 44/50\n",
            "4/4 - 0s - loss: 0.1373 - accuracy: 0.9726 - val_loss: 0.0975 - val_accuracy: 0.9583 - 81ms/epoch - 19ms/step\n",
            "Epoch 45/50\n",
            "4/4 - 0s - loss: 0.1372 - accuracy: 0.9726 - val_loss: 0.0604 - val_accuracy: 1.0000 - 74ms/epoch - 18ms/step\n",
            "Epoch 46/50\n",
            "4/4 - 0s - loss: 0.0695 - accuracy: 0.9937 - val_loss: 0.0679 - val_accuracy: 1.0000 - 75ms/epoch - 18ms/step\n",
            "Epoch 47/50\n",
            "4/4 - 0s - loss: 0.1218 - accuracy: 0.9589 - val_loss: 0.0834 - val_accuracy: 0.9583 - 80ms/epoch - 19ms/step\n",
            "Epoch 48/50\n",
            "4/4 - 0s - loss: 0.0601 - accuracy: 0.9932 - val_loss: 0.0631 - val_accuracy: 1.0000 - 72ms/epoch - 17ms/step\n",
            "Epoch 49/50\n",
            "4/4 - 0s - loss: 0.0660 - accuracy: 0.9863 - val_loss: 0.0895 - val_accuracy: 0.9583 - 69ms/epoch - 17ms/step\n",
            "Epoch 50/50\n",
            "4/4 - 0s - loss: 0.0653 - accuracy: 0.9812 - val_loss: 0.0508 - val_accuracy: 1.0000 - 86ms/epoch - 21ms/step\n"
          ]
        }
      ]
    },
    {
      "cell_type": "code",
      "source": [
        "m = history_3.history"
      ],
      "metadata": {
        "id": "T_fKvGKFiqMA"
      },
      "execution_count": null,
      "outputs": []
    },
    {
      "cell_type": "code",
      "source": [
        "plt.rcParams[\"figure.figsize\"] = (8,6)\n",
        "epochs = list(range(1,51))\n",
        "plt.plot(epochs,m['loss'],'r',label = 'train_loss')\n",
        "plt.plot(epochs,m['val_loss'],'b',label = 'val_loss')\n",
        "plt.grid()\n",
        "plt.legend()\n",
        "plt.show()"
      ],
      "metadata": {
        "colab": {
          "base_uri": "https://localhost:8080/",
          "height": 374
        },
        "outputId": "090dae2c-7675-499f-9507-d3e55a79fad8",
        "id": "ZeN5Uk9MiqMA"
      },
      "execution_count": null,
      "outputs": [
        {
          "output_type": "display_data",
          "data": {
            "text/plain": [
              "<Figure size 576x432 with 1 Axes>"
            ],
            "image/png": "[encoded data removed]"
          },
          "metadata": {
            "needs_background": "light"
          }
        }
      ]
    },
    {
      "cell_type": "code",
      "source": [
        "plt.plot(epochs,m['accuracy'],'r',label = 'train_acc')\n",
        "plt.plot(epochs,m['val_accuracy'],'b',label = 'val_acc')\n",
        "plt.grid()\n",
        "plt.legend()\n",
        "plt.show()"
      ],
      "metadata": {
        "colab": {
          "base_uri": "https://localhost:8080/",
          "height": 374
        },
        "outputId": "39d7832a-33cb-486f-dbac-3401cd8256ef",
        "id": "z02X8BsiiqMB"
      },
      "execution_count": null,
      "outputs": [
        {
          "output_type": "display_data",
          "data": {
            "text/plain": [
              "<Figure size 576x432 with 1 Axes>"
            ],
            "image/png": "[encoded data removed]"
          },
          "metadata": {
            "needs_background": "light"
          }
        }
      ]
    },
    {
      "cell_type": "code",
      "source": [
        "from sklearn.metrics import accuracy_score\n",
        "y_pred = lstm_3.predict(X_test,batch_size = 1)\n",
        "ypred = np.argmax(y_pred,axis=1)\n",
        "accuracy_score(y_test,ypred)"
      ],
      "metadata": {
        "colab": {
          "base_uri": "https://localhost:8080/"
        },
        "outputId": "4e081384-1f05-4bc4-cc3f-e5d29ade9fc7",
        "id": "7_bYf4p-iqMB"
      },
      "execution_count": null,
      "outputs": [
        {
          "output_type": "execute_result",
          "data": {
            "text/plain": [
              "1.0"
            ]
          },
          "metadata": {},
          "execution_count": 41
        }
      ]
    },
    {
      "cell_type": "code",
      "source": [
        "lstm_3.save(\"/content/drive/MyDrive/dissertation/time_series_classification/baseline_lstm3.h5\")"
      ],
      "metadata": {
        "id": "FC1vSJOyiqMB"
      },
      "execution_count": null,
      "outputs": []
    },
    {
      "cell_type": "code",
      "source": [
        "np.save(\"/content/drive/MyDrive/dissertation/Xtrn\",X_trn)"
      ],
      "metadata": {
        "id": "cYyEGGiHlQJT"
      },
      "execution_count": null,
      "outputs": []
    },
    {
      "cell_type": "code",
      "source": [
        "np.save(\"/content/drive/MyDrive/dissertation/Xtrn\",X_val)\n",
        "np.save(\"/content/drive/MyDrive/dissertation/Xtrn\",X_test)"
      ],
      "metadata": {
        "id": "kOBCJurely-e"
      },
      "execution_count": null,
      "outputs": []
    },
    {
      "cell_type": "markdown",
      "source": [
        "## Using keras tuner for hyperparameter tuning"
      ],
      "metadata": {
        "id": "_OBe_1ftaP7T"
      }
    },
    {
      "cell_type": "code",
      "source": [
        "!pip install keras-tuner -q"
      ],
      "metadata": {
        "id": "JSi0jEygaWs3",
        "colab": {
          "base_uri": "https://localhost:8080/"
        },
        "outputId": "6d0befac-0247-4979-c70d-75d3281ec480"
      },
      "execution_count": null,
      "outputs": [
        {
          "output_type": "stream",
          "name": "stdout",
          "text": [
            "\u001b[?25l\r\u001b[K     |██▌                             | 10 kB 15.2 MB/s eta 0:00:01\r\u001b[K     |█████                           | 20 kB 9.9 MB/s eta 0:00:01\r\u001b[K     |███████▍                        | 30 kB 7.5 MB/s eta 0:00:01\r\u001b[K     |█████████▉                      | 40 kB 6.9 MB/s eta 0:00:01\r\u001b[K     |████████████▎                   | 51 kB 4.2 MB/s eta 0:00:01\r\u001b[K     |██████████████▊                 | 61 kB 4.8 MB/s eta 0:00:01\r\u001b[K     |█████████████████▏              | 71 kB 5.2 MB/s eta 0:00:01\r\u001b[K     |███████████████████▋            | 81 kB 4.9 MB/s eta 0:00:01\r\u001b[K     |██████████████████████          | 92 kB 5.4 MB/s eta 0:00:01\r\u001b[K     |████████████████████████▌       | 102 kB 5.2 MB/s eta 0:00:01\r\u001b[K     |███████████████████████████     | 112 kB 5.2 MB/s eta 0:00:01\r\u001b[K     |█████████████████████████████▍  | 122 kB 5.2 MB/s eta 0:00:01\r\u001b[K     |███████████████████████████████▉| 133 kB 5.2 MB/s eta 0:00:01\r\u001b[K     |████████████████████████████████| 133 kB 5.2 MB/s \n",
            "\u001b[?25h"
          ]
        }
      ]
    },
    {
      "cell_type": "code",
      "source": [
        "import keras_tuner\n",
        "def call_model(units, units1, activation, lr):\n",
        "    inp_shape = (17,138) #17 timestamps and 138 features\n",
        "    model = keras.Sequential()\n",
        "    model.add(LSTM(units = units,input_shape = inp_shape)) #try using return_sequences = True if possible.\n",
        "    model.add(layers.Dense(units=units1, activation=activation))\n",
        "    model.add(layers.Dense(3, activation=\"softmax\"))\n",
        "    model.compile(\n",
        "        optimizer=tf.keras.optimizers.Adam(learning_rate=lr),\n",
        "        loss=\"sparse_categorical_crossentropy\",\n",
        "        metrics=[\"accuracy\"],\n",
        "    )\n",
        "    return model\n",
        "\n",
        "\n",
        "def build_model(hp):\n",
        "    units = hp.Int(\"units\", min_value=10, max_value=25, step=2)\n",
        "    units1 = hp.Int(\"units1\",min_value = 5,max_value = 15, step = 1)\n",
        "    activation = hp.Choice(\"activation\", [\"relu\", \"tanh\",\"sigmoid\"])\n",
        "    lr = hp.Float(\"lr\", min_value=1e-4, max_value=1e-2, sampling=\"log\")\n",
        "    # call existing model-building code with the hyperparameter values.\n",
        "    model = call_model(units=units, units1 = units1, activation=activation, lr=lr)\n",
        "    return model\n",
        "\n",
        "\n",
        "build_model(keras_tuner.HyperParameters())"
      ],
      "metadata": {
        "id": "HipRWDW8irAD",
        "colab": {
          "base_uri": "https://localhost:8080/"
        },
        "outputId": "f5782a18-dd17-4c75-d143-92d8a65d952e"
      },
      "execution_count": null,
      "outputs": [
        {
          "output_type": "execute_result",
          "data": {
            "text/plain": [
              "<keras.engine.sequential.Sequential at 0x7f52d8f202d0>"
            ]
          },
          "metadata": {},
          "execution_count": 15
        }
      ]
    },
    {
      "cell_type": "code",
      "source": [
        "tuner = keras_tuner.RandomSearch(\n",
        "    hypermodel=build_model,\n",
        "    objective=\"val_accuracy\",\n",
        "    max_trials=15,\n",
        "    executions_per_trial=1,\n",
        "    overwrite=True,\n",
        "    directory=\"/content/drive/MyDrive/dissertation/results_dir\",\n",
        "    project_name=\"/content/drive/MyDrive/dissertation_results\",\n",
        ")"
      ],
      "metadata": {
        "id": "2WID7Nq2FLkj"
      },
      "execution_count": null,
      "outputs": []
    },
    {
      "cell_type": "code",
      "source": [
        "tuner.search_space_summary()"
      ],
      "metadata": {
        "colab": {
          "base_uri": "https://localhost:8080/"
        },
        "id": "_I9uwOsn7OVQ",
        "outputId": "531a1ead-8ab9-4810-d0db-69dd6878d3d4"
      },
      "execution_count": null,
      "outputs": [
        {
          "output_type": "stream",
          "name": "stdout",
          "text": [
            "Search space summary\n",
            "Default search space size: 4\n",
            "units (Int)\n",
            "{'default': None, 'conditions': [], 'min_value': 10, 'max_value': 25, 'step': 2, 'sampling': None}\n",
            "units1 (Int)\n",
            "{'default': None, 'conditions': [], 'min_value': 5, 'max_value': 15, 'step': 1, 'sampling': None}\n",
            "activation (Choice)\n",
            "{'default': 'relu', 'conditions': [], 'values': ['relu', 'tanh', 'sigmoid'], 'ordered': False}\n",
            "lr (Float)\n",
            "{'default': 0.0001, 'conditions': [], 'min_value': 0.0001, 'max_value': 0.01, 'step': None, 'sampling': 'log'}\n"
          ]
        }
      ]
    },
    {
      "cell_type": "code",
      "source": [
        "tuner.search(X_trn, y_trn, epochs=50, validation_data=(X_val, y_val))"
      ],
      "metadata": {
        "colab": {
          "base_uri": "https://localhost:8080/"
        },
        "id": "FEh0-C3a7OSb",
        "outputId": "45929345-c80b-4dd9-e808-c1ad651cb271"
      },
      "execution_count": null,
      "outputs": [
        {
          "output_type": "stream",
          "name": "stdout",
          "text": [
            "Trial 15 Complete [00h 00m 13s]\n",
            "val_accuracy: 1.0\n",
            "\n",
            "Best val_accuracy So Far: 1.0\n",
            "Total elapsed time: 00h 03m 13s\n",
            "INFO:tensorflow:Oracle triggered exit\n"
          ]
        }
      ]
    },
    {
      "cell_type": "code",
      "source": [
        "models = tuner.get_best_models(num_models=2)\n",
        "best_model = models[0]\n",
        "# Build the model.\n",
        "# Needed for `Sequential` without specified `input_shape`.\n",
        "best_model.build(input_shape=(17, 138))\n",
        "best_model.summary()"
      ],
      "metadata": {
        "colab": {
          "base_uri": "https://localhost:8080/"
        },
        "id": "6CiAQpA5AxGg",
        "outputId": "447c8ef1-eb4a-4a51-9b53-a6c6fac9751c"
      },
      "execution_count": null,
      "outputs": [
        {
          "output_type": "stream",
          "name": "stdout",
          "text": [
            "Model: \"sequential\"\n",
            "_________________________________________________________________\n",
            " Layer (type)                Output Shape              Param #   \n",
            "=================================================================\n",
            " lstm (LSTM)                 (None, 22)                14168     \n",
            "                                                                 \n",
            " dense (Dense)               (None, 13)                299       \n",
            "                                                                 \n",
            " dense_1 (Dense)             (None, 3)                 42        \n",
            "                                                                 \n",
            "=================================================================\n",
            "Total params: 14,509\n",
            "Trainable params: 14,509\n",
            "Non-trainable params: 0\n",
            "_________________________________________________________________\n"
          ]
        }
      ]
    },
    {
      "cell_type": "code",
      "source": [
        "tuner.results_summary()"
      ],
      "metadata": {
        "colab": {
          "base_uri": "https://localhost:8080/"
        },
        "id": "K8wGHGFOAxBQ",
        "outputId": "7e71cc86-1ec6-4517-fd46-989a1f28db4b"
      },
      "execution_count": null,
      "outputs": [
        {
          "output_type": "stream",
          "name": "stdout",
          "text": [
            "Results summary\n",
            "Results in /content/drive/MyDrive/dissertation_results\n",
            "Showing 10 best trials\n",
            "<keras_tuner.engine.objective.Objective object at 0x7f52d8f1e250>\n",
            "Trial summary\n",
            "Hyperparameters:\n",
            "units: 22\n",
            "units1: 13\n",
            "activation: relu\n",
            "lr: 0.0022556211284225536\n",
            "Score: 1.0\n",
            "Trial summary\n",
            "Hyperparameters:\n",
            "units: 12\n",
            "units1: 5\n",
            "activation: tanh\n",
            "lr: 0.0034681885165451717\n",
            "Score: 1.0\n",
            "Trial summary\n",
            "Hyperparameters:\n",
            "units: 10\n",
            "units1: 10\n",
            "activation: sigmoid\n",
            "lr: 0.007098325702001617\n",
            "Score: 1.0\n",
            "Trial summary\n",
            "Hyperparameters:\n",
            "units: 20\n",
            "units1: 9\n",
            "activation: tanh\n",
            "lr: 0.0021765065892749877\n",
            "Score: 1.0\n",
            "Trial summary\n",
            "Hyperparameters:\n",
            "units: 24\n",
            "units1: 5\n",
            "activation: tanh\n",
            "lr: 0.000989402078616141\n",
            "Score: 1.0\n",
            "Trial summary\n",
            "Hyperparameters:\n",
            "units: 16\n",
            "units1: 12\n",
            "activation: sigmoid\n",
            "lr: 0.004485708249434565\n",
            "Score: 1.0\n",
            "Trial summary\n",
            "Hyperparameters:\n",
            "units: 12\n",
            "units1: 7\n",
            "activation: tanh\n",
            "lr: 0.004384151266566465\n",
            "Score: 1.0\n",
            "Trial summary\n",
            "Hyperparameters:\n",
            "units: 16\n",
            "units1: 13\n",
            "activation: tanh\n",
            "lr: 0.00727915929887585\n",
            "Score: 1.0\n",
            "Trial summary\n",
            "Hyperparameters:\n",
            "units: 14\n",
            "units1: 11\n",
            "activation: relu\n",
            "lr: 0.0020364776020975464\n",
            "Score: 1.0\n",
            "Trial summary\n",
            "Hyperparameters:\n",
            "units: 10\n",
            "units1: 5\n",
            "activation: relu\n",
            "lr: 0.0009094607513410072\n",
            "Score: 0.9166666865348816\n"
          ]
        }
      ]
    },
    {
      "cell_type": "code",
      "source": [
        "l = tf.keras.losses.SparseCategoricalCrossentropy()\n",
        "opt = tf.keras.optimizers.Adam(learning_rate = 0.0022556)\n",
        "best_model.compile(loss= l, optimizer = opt,metrics=['accuracy'])\n",
        "history = best_model.fit(X_trn,y_trn,batch_size = 32,epochs = 50,verbose = 2,steps_per_epoch = X_trn.shape[0]/50,validation_data=(X_val,y_val))"
      ],
      "metadata": {
        "colab": {
          "base_uri": "https://localhost:8080/"
        },
        "id": "u-UVOb-IAw-q",
        "outputId": "e2ed4f96-acd3-4b0c-f6bb-72101fd767e8"
      },
      "execution_count": null,
      "outputs": [
        {
          "output_type": "stream",
          "name": "stdout",
          "text": [
            "WARNING:tensorflow:Detecting that an object or model or tf.train.Checkpoint is being deleted with unrestored values. See the following logs for the specific values in question. To silence these warnings, use `status.expect_partial()`. See https://www.tensorflow.org/api_docs/python/tf/train/Checkpoint#restorefor details about the status object returned by the restore function.\n",
            "WARNING:tensorflow:Value in checkpoint could not be found in the restored object: (root).optimizer.iter\n",
            "WARNING:tensorflow:Value in checkpoint could not be found in the restored object: (root).optimizer.beta_1\n",
            "WARNING:tensorflow:Value in checkpoint could not be found in the restored object: (root).optimizer.beta_2\n",
            "WARNING:tensorflow:Value in checkpoint could not be found in the restored object: (root).optimizer.decay\n",
            "WARNING:tensorflow:Value in checkpoint could not be found in the restored object: (root).optimizer.learning_rate\n",
            "Epoch 1/50\n",
            "4/4 - 3s - loss: 0.3633 - accuracy: 0.8625 - val_loss: 0.1943 - val_accuracy: 1.0000 - 3s/epoch - 608ms/step\n",
            "Epoch 2/50\n",
            "4/4 - 0s - loss: 0.2781 - accuracy: 0.9384 - val_loss: 0.2129 - val_accuracy: 0.9167 - 67ms/epoch - 16ms/step\n",
            "Epoch 3/50\n",
            "4/4 - 0s - loss: 0.2666 - accuracy: 0.9315 - val_loss: 0.1883 - val_accuracy: 0.9583 - 66ms/epoch - 16ms/step\n",
            "Epoch 4/50\n",
            "4/4 - 0s - loss: 0.2212 - accuracy: 0.9500 - val_loss: 0.1494 - val_accuracy: 0.9583 - 69ms/epoch - 16ms/step\n",
            "Epoch 5/50\n",
            "4/4 - 0s - loss: 0.2369 - accuracy: 0.8699 - val_loss: 0.1506 - val_accuracy: 1.0000 - 73ms/epoch - 17ms/step\n",
            "Epoch 6/50\n",
            "4/4 - 0s - loss: 0.2020 - accuracy: 0.9589 - val_loss: 0.1826 - val_accuracy: 0.9583 - 64ms/epoch - 15ms/step\n",
            "Epoch 7/50\n",
            "4/4 - 0s - loss: 0.1766 - accuracy: 0.9589 - val_loss: 0.1204 - val_accuracy: 0.9583 - 63ms/epoch - 15ms/step\n",
            "Epoch 8/50\n",
            "4/4 - 0s - loss: 0.1572 - accuracy: 0.9688 - val_loss: 0.1057 - val_accuracy: 1.0000 - 67ms/epoch - 16ms/step\n",
            "Epoch 9/50\n",
            "4/4 - 0s - loss: 0.1360 - accuracy: 0.9658 - val_loss: 0.2097 - val_accuracy: 0.9583 - 65ms/epoch - 15ms/step\n",
            "Epoch 10/50\n",
            "4/4 - 0s - loss: 0.1405 - accuracy: 0.9726 - val_loss: 0.1861 - val_accuracy: 0.9167 - 71ms/epoch - 17ms/step\n",
            "Epoch 11/50\n",
            "4/4 - 0s - loss: 0.2940 - accuracy: 0.8500 - val_loss: 0.2728 - val_accuracy: 0.8333 - 63ms/epoch - 15ms/step\n",
            "Epoch 12/50\n",
            "4/4 - 0s - loss: 0.2795 - accuracy: 0.8767 - val_loss: 0.2586 - val_accuracy: 0.8750 - 66ms/epoch - 16ms/step\n",
            "Epoch 13/50\n",
            "4/4 - 0s - loss: 0.1839 - accuracy: 0.9315 - val_loss: 0.0986 - val_accuracy: 1.0000 - 70ms/epoch - 17ms/step\n",
            "Epoch 14/50\n",
            "4/4 - 0s - loss: 0.1387 - accuracy: 0.9726 - val_loss: 0.1465 - val_accuracy: 0.9583 - 70ms/epoch - 17ms/step\n",
            "Epoch 15/50\n",
            "4/4 - 0s - loss: 0.1786 - accuracy: 0.9438 - val_loss: 0.1377 - val_accuracy: 0.9583 - 64ms/epoch - 15ms/step\n",
            "Epoch 16/50\n",
            "4/4 - 0s - loss: 0.1693 - accuracy: 0.9658 - val_loss: 0.1090 - val_accuracy: 1.0000 - 73ms/epoch - 17ms/step\n",
            "Epoch 17/50\n",
            "4/4 - 0s - loss: 0.1273 - accuracy: 0.9795 - val_loss: 0.0831 - val_accuracy: 1.0000 - 77ms/epoch - 18ms/step\n",
            "Epoch 18/50\n",
            "4/4 - 0s - loss: 0.1481 - accuracy: 0.9625 - val_loss: 0.1042 - val_accuracy: 0.9583 - 67ms/epoch - 16ms/step\n",
            "Epoch 19/50\n",
            "4/4 - 0s - loss: 0.0882 - accuracy: 0.9795 - val_loss: 0.0671 - val_accuracy: 1.0000 - 71ms/epoch - 17ms/step\n",
            "Epoch 20/50\n",
            "4/4 - 0s - loss: 0.0907 - accuracy: 0.9795 - val_loss: 0.1096 - val_accuracy: 0.9583 - 69ms/epoch - 16ms/step\n",
            "Epoch 21/50\n",
            "4/4 - 0s - loss: 0.0993 - accuracy: 0.9795 - val_loss: 0.0756 - val_accuracy: 0.9583 - 65ms/epoch - 16ms/step\n",
            "Epoch 22/50\n",
            "4/4 - 0s - loss: 0.1024 - accuracy: 0.9812 - val_loss: 0.0733 - val_accuracy: 1.0000 - 65ms/epoch - 16ms/step\n",
            "Epoch 23/50\n",
            "4/4 - 0s - loss: 0.0881 - accuracy: 0.9726 - val_loss: 0.0597 - val_accuracy: 1.0000 - 66ms/epoch - 16ms/step\n",
            "Epoch 24/50\n",
            "4/4 - 0s - loss: 0.1040 - accuracy: 0.9726 - val_loss: 0.0617 - val_accuracy: 0.9583 - 64ms/epoch - 15ms/step\n",
            "Epoch 25/50\n",
            "4/4 - 0s - loss: 0.0724 - accuracy: 0.9812 - val_loss: 0.1050 - val_accuracy: 0.9583 - 68ms/epoch - 16ms/step\n",
            "Epoch 26/50\n",
            "4/4 - 0s - loss: 0.0827 - accuracy: 0.9726 - val_loss: 0.0480 - val_accuracy: 1.0000 - 63ms/epoch - 15ms/step\n",
            "Epoch 27/50\n",
            "4/4 - 0s - loss: 0.0631 - accuracy: 0.9932 - val_loss: 0.0373 - val_accuracy: 1.0000 - 67ms/epoch - 16ms/step\n",
            "Epoch 28/50\n",
            "4/4 - 0s - loss: 0.0637 - accuracy: 0.9863 - val_loss: 0.0422 - val_accuracy: 1.0000 - 63ms/epoch - 15ms/step\n",
            "Epoch 29/50\n",
            "4/4 - 0s - loss: 0.0482 - accuracy: 0.9937 - val_loss: 0.0320 - val_accuracy: 1.0000 - 66ms/epoch - 16ms/step\n",
            "Epoch 30/50\n",
            "4/4 - 0s - loss: 0.0510 - accuracy: 1.0000 - val_loss: 0.0290 - val_accuracy: 1.0000 - 70ms/epoch - 17ms/step\n",
            "Epoch 31/50\n",
            "4/4 - 0s - loss: 0.0606 - accuracy: 0.9726 - val_loss: 0.0390 - val_accuracy: 1.0000 - 65ms/epoch - 16ms/step\n",
            "Epoch 32/50\n",
            "4/4 - 0s - loss: 0.0553 - accuracy: 1.0000 - val_loss: 0.0257 - val_accuracy: 1.0000 - 63ms/epoch - 15ms/step\n",
            "Epoch 33/50\n",
            "4/4 - 0s - loss: 0.0423 - accuracy: 0.9932 - val_loss: 0.0239 - val_accuracy: 1.0000 - 67ms/epoch - 16ms/step\n",
            "Epoch 34/50\n",
            "4/4 - 0s - loss: 0.0344 - accuracy: 1.0000 - val_loss: 0.0259 - val_accuracy: 1.0000 - 75ms/epoch - 18ms/step\n",
            "Epoch 35/50\n",
            "4/4 - 0s - loss: 0.0363 - accuracy: 1.0000 - val_loss: 0.0258 - val_accuracy: 1.0000 - 67ms/epoch - 16ms/step\n",
            "Epoch 36/50\n",
            "4/4 - 0s - loss: 0.0365 - accuracy: 0.9875 - val_loss: 0.0321 - val_accuracy: 1.0000 - 66ms/epoch - 16ms/step\n",
            "Epoch 37/50\n",
            "4/4 - 0s - loss: 0.0285 - accuracy: 1.0000 - val_loss: 0.0172 - val_accuracy: 1.0000 - 66ms/epoch - 16ms/step\n",
            "Epoch 38/50\n",
            "4/4 - 0s - loss: 0.0386 - accuracy: 0.9863 - val_loss: 0.0186 - val_accuracy: 1.0000 - 72ms/epoch - 17ms/step\n",
            "Epoch 39/50\n",
            "4/4 - 0s - loss: 0.0274 - accuracy: 0.9937 - val_loss: 0.0203 - val_accuracy: 1.0000 - 68ms/epoch - 16ms/step\n",
            "Epoch 40/50\n",
            "4/4 - 0s - loss: 0.0308 - accuracy: 0.9863 - val_loss: 0.0153 - val_accuracy: 1.0000 - 64ms/epoch - 15ms/step\n",
            "Epoch 41/50\n",
            "4/4 - 0s - loss: 0.0431 - accuracy: 0.9863 - val_loss: 0.0352 - val_accuracy: 1.0000 - 68ms/epoch - 16ms/step\n",
            "Epoch 42/50\n",
            "4/4 - 0s - loss: 0.0273 - accuracy: 1.0000 - val_loss: 0.0133 - val_accuracy: 1.0000 - 67ms/epoch - 16ms/step\n",
            "Epoch 43/50\n",
            "4/4 - 0s - loss: 0.0300 - accuracy: 1.0000 - val_loss: 0.0186 - val_accuracy: 1.0000 - 68ms/epoch - 16ms/step\n",
            "Epoch 44/50\n",
            "4/4 - 0s - loss: 0.0316 - accuracy: 0.9932 - val_loss: 0.0120 - val_accuracy: 1.0000 - 67ms/epoch - 16ms/step\n",
            "Epoch 45/50\n",
            "4/4 - 0s - loss: 0.0379 - accuracy: 0.9863 - val_loss: 0.0121 - val_accuracy: 1.0000 - 69ms/epoch - 16ms/step\n",
            "Epoch 46/50\n",
            "4/4 - 0s - loss: 0.0367 - accuracy: 0.9875 - val_loss: 0.0129 - val_accuracy: 1.0000 - 65ms/epoch - 16ms/step\n",
            "Epoch 47/50\n",
            "4/4 - 0s - loss: 0.0383 - accuracy: 0.9863 - val_loss: 0.0125 - val_accuracy: 1.0000 - 71ms/epoch - 17ms/step\n",
            "Epoch 48/50\n",
            "4/4 - 0s - loss: 0.0408 - accuracy: 0.9932 - val_loss: 0.0115 - val_accuracy: 1.0000 - 71ms/epoch - 17ms/step\n",
            "Epoch 49/50\n",
            "4/4 - 0s - loss: 0.0270 - accuracy: 1.0000 - val_loss: 0.0092 - val_accuracy: 1.0000 - 63ms/epoch - 15ms/step\n",
            "Epoch 50/50\n",
            "4/4 - 0s - loss: 0.0230 - accuracy: 0.9937 - val_loss: 0.0118 - val_accuracy: 1.0000 - 70ms/epoch - 17ms/step\n"
          ]
        }
      ]
    },
    {
      "cell_type": "code",
      "source": [
        "m = history.history\n",
        "plt.rcParams[\"figure.figsize\"] = (8,6)\n",
        "epochs = list(range(1,51))\n",
        "plt.plot(epochs,m['loss'],'r',label = 'train_loss')\n",
        "plt.plot(epochs,m['val_loss'],'b',label = 'val_loss')\n",
        "plt.grid()\n",
        "plt.legend()\n",
        "plt.show()"
      ],
      "metadata": {
        "colab": {
          "base_uri": "https://localhost:8080/",
          "height": 374
        },
        "id": "Uz2rG2A7B-gP",
        "outputId": "714ffa44-a4ef-4262-f0f5-6b445163a61f"
      },
      "execution_count": null,
      "outputs": [
        {
          "output_type": "display_data",
          "data": {
            "text/plain": [
              "<Figure size 576x432 with 1 Axes>"
            ],
            "image/png": "[encoded data removed]"
          },
          "metadata": {
            "needs_background": "light"
          }
        }
      ]
    },
    {
      "cell_type": "code",
      "source": [
        "plt.plot(epochs,m['accuracy'],'r')\n",
        "plt.plot(epochs,m['val_accuracy'],'b')\n",
        "plt.show()"
      ],
      "metadata": {
        "colab": {
          "base_uri": "https://localhost:8080/",
          "height": 374
        },
        "id": "OWrqlu4eCaeg",
        "outputId": "67165a11-ada4-4177-eddb-9498c753678a"
      },
      "execution_count": null,
      "outputs": [
        {
          "output_type": "display_data",
          "data": {
            "text/plain": [
              "<Figure size 576x432 with 1 Axes>"
            ],
            "image/png": "[encoded data removed]"
          },
          "metadata": {
            "needs_background": "light"
          }
        }
      ]
    },
    {
      "cell_type": "code",
      "source": [
        "from sklearn.metrics import accuracy_score\n",
        "y_pred = best_model.predict(X_test,batch_size = 1)\n",
        "ypred = np.argmax(y_pred,axis=1)\n",
        "accuracy_score(y_test,ypred)"
      ],
      "metadata": {
        "colab": {
          "base_uri": "https://localhost:8080/"
        },
        "outputId": "0c366f02-b136-4464-88b4-e8a7ddad25c0",
        "id": "yAEG_AZZMc3F"
      },
      "execution_count": null,
      "outputs": [
        {
          "output_type": "execute_result",
          "data": {
            "text/plain": [
              "0.9629629629629629"
            ]
          },
          "metadata": {},
          "execution_count": 26
        }
      ]
    },
    {
      "cell_type": "markdown",
      "source": [
        "## Using SHAP for analysis"
      ],
      "metadata": {
        "id": "5oh-4OQ9PAZW"
      }
    },
    {
      "cell_type": "code",
      "source": [
        "!pip install shap\n",
        "import shap"
      ],
      "metadata": {
        "colab": {
          "base_uri": "https://localhost:8080/"
        },
        "id": "T7Nc1Q0oCaZG",
        "outputId": "59bd8e8e-7a50-4dd9-9deb-6e975f2e0d05"
      },
      "execution_count": null,
      "outputs": [
        {
          "output_type": "stream",
          "name": "stdout",
          "text": [
            "Looking in indexes: https://pypi.org/simple, https://us-python.pkg.dev/colab-wheels/public/simple/\n",
            "Collecting shap\n",
            "  Downloading shap-0.41.0-cp37-cp37m-manylinux_2_12_x86_64.manylinux2010_x86_64.whl (569 kB)\n",
            "\u001b[K     |████████████████████████████████| 569 kB 5.2 MB/s \n",
            "\u001b[?25hRequirement already satisfied: scikit-learn in /usr/local/lib/python3.7/dist-packages (from shap) (1.0.2)\n",
            "Requirement already satisfied: scipy in /usr/local/lib/python3.7/dist-packages (from shap) (1.4.1)\n",
            "Requirement already satisfied: pandas in /usr/local/lib/python3.7/dist-packages (from shap) (1.3.5)\n",
            "Requirement already satisfied: cloudpickle in /usr/local/lib/python3.7/dist-packages (from shap) (1.3.0)\n",
            "Requirement already satisfied: numpy in /usr/local/lib/python3.7/dist-packages (from shap) (1.21.6)\n",
            "Collecting slicer==0.0.7\n",
            "  Downloading slicer-0.0.7-py3-none-any.whl (14 kB)\n",
            "Requirement already satisfied: numba in /usr/local/lib/python3.7/dist-packages (from shap) (0.51.2)\n",
            "Requirement already satisfied: tqdm>4.25.0 in /usr/local/lib/python3.7/dist-packages (from shap) (4.64.0)\n",
            "Requirement already satisfied: packaging>20.9 in /usr/local/lib/python3.7/dist-packages (from shap) (21.3)\n",
            "Requirement already satisfied: pyparsing!=3.0.5,>=2.0.2 in /usr/local/lib/python3.7/dist-packages (from packaging>20.9->shap) (3.0.9)\n",
            "Requirement already satisfied: setuptools in /usr/local/lib/python3.7/dist-packages (from numba->shap) (57.4.0)\n",
            "Requirement already satisfied: llvmlite<0.35,>=0.34.0.dev0 in /usr/local/lib/python3.7/dist-packages (from numba->shap) (0.34.0)\n",
            "Requirement already satisfied: python-dateutil>=2.7.3 in /usr/local/lib/python3.7/dist-packages (from pandas->shap) (2.8.2)\n",
            "Requirement already satisfied: pytz>=2017.3 in /usr/local/lib/python3.7/dist-packages (from pandas->shap) (2022.1)\n",
            "Requirement already satisfied: six>=1.5 in /usr/local/lib/python3.7/dist-packages (from python-dateutil>=2.7.3->pandas->shap) (1.15.0)\n",
            "Requirement already satisfied: joblib>=0.11 in /usr/local/lib/python3.7/dist-packages (from scikit-learn->shap) (1.1.0)\n",
            "Requirement already satisfied: threadpoolctl>=2.0.0 in /usr/local/lib/python3.7/dist-packages (from scikit-learn->shap) (3.1.0)\n",
            "Installing collected packages: slicer, shap\n",
            "Successfully installed shap-0.41.0 slicer-0.0.7\n"
          ]
        }
      ]
    },
    {
      "cell_type": "code",
      "source": [
        "explainer = shap.DeepExplainer(best_model, X_trn)\n",
        "shap_values = explainer.shap_values(X_test)\n",
        "shap.initjs()"
      ],
      "metadata": {
        "colab": {
          "base_uri": "https://localhost:8080/",
          "height": 1000
        },
        "id": "h655bEUaCaWX",
        "outputId": "3dd8a70d-5944-434d-d1ae-81f368cda24e"
      },
      "execution_count": null,
      "outputs": [
        {
          "output_type": "stream",
          "name": "stderr",
          "text": [
            "keras is no longer supported, please use tf.keras instead.\n",
            "Your TensorFlow version is newer than 2.4.0 and so graph support has been removed in eager mode and some static graphs may not be supported. See PR #1483 for discussion.\n",
            "`tf.keras.backend.set_learning_phase` is deprecated and will be removed after 2020-10-11. To update it, simply pass a True/False value to the `training` argument of the `__call__` method of your layer or model.\n"
          ]
        },
        {
          "output_type": "error",
          "ename": "AttributeError",
          "evalue": "ignored",
          "traceback": [
            "\u001b[0;31m---------------------------------------------------------------------------\u001b[0m",
            "\u001b[0;31mAttributeError\u001b[0m                            Traceback (most recent call last)",
            "\u001b[0;32m<ipython-input-28-8d0447b6c674>\u001b[0m in \u001b[0;36m<module>\u001b[0;34m()\u001b[0m\n\u001b[1;32m      1\u001b[0m \u001b[0mexplainer\u001b[0m \u001b[0;34m=\u001b[0m \u001b[0mshap\u001b[0m\u001b[0;34m.\u001b[0m\u001b[0mDeepExplainer\u001b[0m\u001b[0;34m(\u001b[0m\u001b[0mbest_model\u001b[0m\u001b[0;34m,\u001b[0m \u001b[0mX_trn\u001b[0m\u001b[0;34m)\u001b[0m\u001b[0;34m\u001b[0m\u001b[0;34m\u001b[0m\u001b[0m\n\u001b[0;32m----> 2\u001b[0;31m \u001b[0mshap_values\u001b[0m \u001b[0;34m=\u001b[0m \u001b[0mexplainer\u001b[0m\u001b[0;34m.\u001b[0m\u001b[0mshap_values\u001b[0m\u001b[0;34m(\u001b[0m\u001b[0mX_test\u001b[0m\u001b[0;34m)\u001b[0m\u001b[0;34m\u001b[0m\u001b[0;34m\u001b[0m\u001b[0m\n\u001b[0m\u001b[1;32m      3\u001b[0m \u001b[0mshap\u001b[0m\u001b[0;34m.\u001b[0m\u001b[0minitjs\u001b[0m\u001b[0;34m(\u001b[0m\u001b[0;34m)\u001b[0m\u001b[0;34m\u001b[0m\u001b[0;34m\u001b[0m\u001b[0m\n",
            "\u001b[0;32m/usr/local/lib/python3.7/dist-packages/shap/explainers/_deep/__init__.py\u001b[0m in \u001b[0;36mshap_values\u001b[0;34m(self, X, ranked_outputs, output_rank_order, check_additivity)\u001b[0m\n\u001b[1;32m    122\u001b[0m             \u001b[0mwere\u001b[0m \u001b[0mchosen\u001b[0m \u001b[0;32mas\u001b[0m \u001b[0;34m\"top\"\u001b[0m\u001b[0;34m.\u001b[0m\u001b[0;34m\u001b[0m\u001b[0;34m\u001b[0m\u001b[0m\n\u001b[1;32m    123\u001b[0m         \"\"\"\n\u001b[0;32m--> 124\u001b[0;31m         \u001b[0;32mreturn\u001b[0m \u001b[0mself\u001b[0m\u001b[0;34m.\u001b[0m\u001b[0mexplainer\u001b[0m\u001b[0;34m.\u001b[0m\u001b[0mshap_values\u001b[0m\u001b[0;34m(\u001b[0m\u001b[0mX\u001b[0m\u001b[0;34m,\u001b[0m \u001b[0mranked_outputs\u001b[0m\u001b[0;34m,\u001b[0m \u001b[0moutput_rank_order\u001b[0m\u001b[0;34m,\u001b[0m \u001b[0mcheck_additivity\u001b[0m\u001b[0;34m=\u001b[0m\u001b[0mcheck_additivity\u001b[0m\u001b[0;34m)\u001b[0m\u001b[0;34m\u001b[0m\u001b[0;34m\u001b[0m\u001b[0m\n\u001b[0m",
            "\u001b[0;32m/usr/local/lib/python3.7/dist-packages/shap/explainers/_deep/deep_tf.py\u001b[0m in \u001b[0;36mshap_values\u001b[0;34m(self, X, ranked_outputs, output_rank_order, check_additivity)\u001b[0m\n\u001b[1;32m    310\u001b[0m                 \u001b[0;31m# run attribution computation graph\u001b[0m\u001b[0;34m\u001b[0m\u001b[0;34m\u001b[0m\u001b[0;34m\u001b[0m\u001b[0m\n\u001b[1;32m    311\u001b[0m                 \u001b[0mfeature_ind\u001b[0m \u001b[0;34m=\u001b[0m \u001b[0mmodel_output_ranks\u001b[0m\u001b[0;34m[\u001b[0m\u001b[0mj\u001b[0m\u001b[0;34m,\u001b[0m\u001b[0mi\u001b[0m\u001b[0;34m]\u001b[0m\u001b[0;34m\u001b[0m\u001b[0;34m\u001b[0m\u001b[0m\n\u001b[0;32m--> 312\u001b[0;31m                 \u001b[0msample_phis\u001b[0m \u001b[0;34m=\u001b[0m \u001b[0mself\u001b[0m\u001b[0;34m.\u001b[0m\u001b[0mrun\u001b[0m\u001b[0;34m(\u001b[0m\u001b[0mself\u001b[0m\u001b[0;34m.\u001b[0m\u001b[0mphi_symbolic\u001b[0m\u001b[0;34m(\u001b[0m\u001b[0mfeature_ind\u001b[0m\u001b[0;34m)\u001b[0m\u001b[0;34m,\u001b[0m \u001b[0mself\u001b[0m\u001b[0;34m.\u001b[0m\u001b[0mmodel_inputs\u001b[0m\u001b[0;34m,\u001b[0m \u001b[0mjoint_input\u001b[0m\u001b[0;34m)\u001b[0m\u001b[0;34m\u001b[0m\u001b[0;34m\u001b[0m\u001b[0m\n\u001b[0m\u001b[1;32m    313\u001b[0m \u001b[0;34m\u001b[0m\u001b[0m\n\u001b[1;32m    314\u001b[0m                 \u001b[0;31m# assign the attributions to the right part of the output arrays\u001b[0m\u001b[0;34m\u001b[0m\u001b[0;34m\u001b[0m\u001b[0;34m\u001b[0m\u001b[0m\n",
            "\u001b[0;32m/usr/local/lib/python3.7/dist-packages/shap/explainers/_deep/deep_tf.py\u001b[0m in \u001b[0;36mrun\u001b[0;34m(self, out, model_inputs, X)\u001b[0m\n\u001b[1;32m    370\u001b[0m \u001b[0;34m\u001b[0m\u001b[0m\n\u001b[1;32m    371\u001b[0m                 \u001b[0;32mreturn\u001b[0m \u001b[0mfinal_out\u001b[0m\u001b[0;34m\u001b[0m\u001b[0;34m\u001b[0m\u001b[0m\n\u001b[0;32m--> 372\u001b[0;31m             \u001b[0;32mreturn\u001b[0m \u001b[0mself\u001b[0m\u001b[0;34m.\u001b[0m\u001b[0mexecute_with_overridden_gradients\u001b[0m\u001b[0;34m(\u001b[0m\u001b[0manon\u001b[0m\u001b[0;34m)\u001b[0m\u001b[0;34m\u001b[0m\u001b[0;34m\u001b[0m\u001b[0m\n\u001b[0m\u001b[1;32m    373\u001b[0m \u001b[0;34m\u001b[0m\u001b[0m\n\u001b[1;32m    374\u001b[0m     \u001b[0;32mdef\u001b[0m \u001b[0mcustom_grad\u001b[0m\u001b[0;34m(\u001b[0m\u001b[0mself\u001b[0m\u001b[0;34m,\u001b[0m \u001b[0mop\u001b[0m\u001b[0;34m,\u001b[0m \u001b[0;34m*\u001b[0m\u001b[0mgrads\u001b[0m\u001b[0;34m)\u001b[0m\u001b[0;34m:\u001b[0m\u001b[0;34m\u001b[0m\u001b[0;34m\u001b[0m\u001b[0m\n",
            "\u001b[0;32m/usr/local/lib/python3.7/dist-packages/shap/explainers/_deep/deep_tf.py\u001b[0m in \u001b[0;36mexecute_with_overridden_gradients\u001b[0;34m(self, f)\u001b[0m\n\u001b[1;32m    406\u001b[0m         \u001b[0;31m# define the computation graph for the attribution values using a custom gradient-like computation\u001b[0m\u001b[0;34m\u001b[0m\u001b[0;34m\u001b[0m\u001b[0;34m\u001b[0m\u001b[0m\n\u001b[1;32m    407\u001b[0m         \u001b[0;32mtry\u001b[0m\u001b[0;34m:\u001b[0m\u001b[0;34m\u001b[0m\u001b[0;34m\u001b[0m\u001b[0m\n\u001b[0;32m--> 408\u001b[0;31m             \u001b[0mout\u001b[0m \u001b[0;34m=\u001b[0m \u001b[0mf\u001b[0m\u001b[0;34m(\u001b[0m\u001b[0;34m)\u001b[0m\u001b[0;34m\u001b[0m\u001b[0;34m\u001b[0m\u001b[0m\n\u001b[0m\u001b[1;32m    409\u001b[0m         \u001b[0;32mfinally\u001b[0m\u001b[0;34m:\u001b[0m\u001b[0;34m\u001b[0m\u001b[0;34m\u001b[0m\u001b[0m\n\u001b[1;32m    410\u001b[0m             \u001b[0;31m# reinstate the backpropagatable check\u001b[0m\u001b[0;34m\u001b[0m\u001b[0;34m\u001b[0m\u001b[0;34m\u001b[0m\u001b[0m\n",
            "\u001b[0;32m/usr/local/lib/python3.7/dist-packages/shap/explainers/_deep/deep_tf.py\u001b[0m in \u001b[0;36manon\u001b[0;34m()\u001b[0m\n\u001b[1;32m    363\u001b[0m                     \u001b[0mv\u001b[0m \u001b[0;34m=\u001b[0m \u001b[0mtf\u001b[0m\u001b[0;34m.\u001b[0m\u001b[0mconstant\u001b[0m\u001b[0;34m(\u001b[0m\u001b[0mdata\u001b[0m\u001b[0;34m,\u001b[0m \u001b[0mdtype\u001b[0m\u001b[0;34m=\u001b[0m\u001b[0mself\u001b[0m\u001b[0;34m.\u001b[0m\u001b[0mmodel_inputs\u001b[0m\u001b[0;34m[\u001b[0m\u001b[0mi\u001b[0m\u001b[0;34m]\u001b[0m\u001b[0;34m.\u001b[0m\u001b[0mdtype\u001b[0m\u001b[0;34m)\u001b[0m\u001b[0;34m\u001b[0m\u001b[0;34m\u001b[0m\u001b[0m\n\u001b[1;32m    364\u001b[0m                     \u001b[0minputs\u001b[0m\u001b[0;34m.\u001b[0m\u001b[0mappend\u001b[0m\u001b[0;34m(\u001b[0m\u001b[0mv\u001b[0m\u001b[0;34m)\u001b[0m\u001b[0;34m\u001b[0m\u001b[0;34m\u001b[0m\u001b[0m\n\u001b[0;32m--> 365\u001b[0;31m                 \u001b[0mfinal_out\u001b[0m \u001b[0;34m=\u001b[0m \u001b[0mout\u001b[0m\u001b[0;34m(\u001b[0m\u001b[0minputs\u001b[0m\u001b[0;34m)\u001b[0m\u001b[0;34m\u001b[0m\u001b[0;34m\u001b[0m\u001b[0m\n\u001b[0m\u001b[1;32m    366\u001b[0m                 \u001b[0;32mtry\u001b[0m\u001b[0;34m:\u001b[0m\u001b[0;34m\u001b[0m\u001b[0;34m\u001b[0m\u001b[0m\n\u001b[1;32m    367\u001b[0m                     \u001b[0mtf_execute\u001b[0m\u001b[0;34m.\u001b[0m\u001b[0mrecord_gradient\u001b[0m \u001b[0;34m=\u001b[0m \u001b[0mtf_backprop\u001b[0m\u001b[0;34m.\u001b[0m\u001b[0m_record_gradient\u001b[0m\u001b[0;34m\u001b[0m\u001b[0;34m\u001b[0m\u001b[0m\n",
            "\u001b[0;32m/usr/local/lib/python3.7/dist-packages/tensorflow/python/util/traceback_utils.py\u001b[0m in \u001b[0;36merror_handler\u001b[0;34m(*args, **kwargs)\u001b[0m\n\u001b[1;32m    151\u001b[0m     \u001b[0;32mexcept\u001b[0m \u001b[0mException\u001b[0m \u001b[0;32mas\u001b[0m \u001b[0me\u001b[0m\u001b[0;34m:\u001b[0m\u001b[0;34m\u001b[0m\u001b[0;34m\u001b[0m\u001b[0m\n\u001b[1;32m    152\u001b[0m       \u001b[0mfiltered_tb\u001b[0m \u001b[0;34m=\u001b[0m \u001b[0m_process_traceback_frames\u001b[0m\u001b[0;34m(\u001b[0m\u001b[0me\u001b[0m\u001b[0;34m.\u001b[0m\u001b[0m__traceback__\u001b[0m\u001b[0;34m)\u001b[0m\u001b[0;34m\u001b[0m\u001b[0;34m\u001b[0m\u001b[0m\n\u001b[0;32m--> 153\u001b[0;31m       \u001b[0;32mraise\u001b[0m \u001b[0me\u001b[0m\u001b[0;34m.\u001b[0m\u001b[0mwith_traceback\u001b[0m\u001b[0;34m(\u001b[0m\u001b[0mfiltered_tb\u001b[0m\u001b[0;34m)\u001b[0m \u001b[0;32mfrom\u001b[0m \u001b[0;32mNone\u001b[0m\u001b[0;34m\u001b[0m\u001b[0;34m\u001b[0m\u001b[0m\n\u001b[0m\u001b[1;32m    154\u001b[0m     \u001b[0;32mfinally\u001b[0m\u001b[0;34m:\u001b[0m\u001b[0;34m\u001b[0m\u001b[0;34m\u001b[0m\u001b[0m\n\u001b[1;32m    155\u001b[0m       \u001b[0;32mdel\u001b[0m \u001b[0mfiltered_tb\u001b[0m\u001b[0;34m\u001b[0m\u001b[0;34m\u001b[0m\u001b[0m\n",
            "\u001b[0;32m/usr/local/lib/python3.7/dist-packages/tensorflow/python/framework/func_graph.py\u001b[0m in \u001b[0;36mautograph_handler\u001b[0;34m(*args, **kwargs)\u001b[0m\n\u001b[1;32m   1145\u001b[0m           \u001b[0;32mexcept\u001b[0m \u001b[0mException\u001b[0m \u001b[0;32mas\u001b[0m \u001b[0me\u001b[0m\u001b[0;34m:\u001b[0m  \u001b[0;31m# pylint:disable=broad-except\u001b[0m\u001b[0;34m\u001b[0m\u001b[0;34m\u001b[0m\u001b[0m\n\u001b[1;32m   1146\u001b[0m             \u001b[0;32mif\u001b[0m \u001b[0mhasattr\u001b[0m\u001b[0;34m(\u001b[0m\u001b[0me\u001b[0m\u001b[0;34m,\u001b[0m \u001b[0;34m\"ag_error_metadata\"\u001b[0m\u001b[0;34m)\u001b[0m\u001b[0;34m:\u001b[0m\u001b[0;34m\u001b[0m\u001b[0;34m\u001b[0m\u001b[0m\n\u001b[0;32m-> 1147\u001b[0;31m               \u001b[0;32mraise\u001b[0m \u001b[0me\u001b[0m\u001b[0;34m.\u001b[0m\u001b[0mag_error_metadata\u001b[0m\u001b[0;34m.\u001b[0m\u001b[0mto_exception\u001b[0m\u001b[0;34m(\u001b[0m\u001b[0me\u001b[0m\u001b[0;34m)\u001b[0m\u001b[0;34m\u001b[0m\u001b[0;34m\u001b[0m\u001b[0m\n\u001b[0m\u001b[1;32m   1148\u001b[0m             \u001b[0;32melse\u001b[0m\u001b[0;34m:\u001b[0m\u001b[0;34m\u001b[0m\u001b[0;34m\u001b[0m\u001b[0m\n\u001b[1;32m   1149\u001b[0m               \u001b[0;32mraise\u001b[0m\u001b[0;34m\u001b[0m\u001b[0;34m\u001b[0m\u001b[0m\n",
            "\u001b[0;31mAttributeError\u001b[0m: in user code:\n\n    File \"/usr/local/lib/python3.7/dist-packages/shap/explainers/_deep/deep_tf.py\", line 247, in grad_graph  *\n        out = self.model(shap_rAnD)\n    File \"/usr/local/lib/python3.7/dist-packages/keras/utils/traceback_utils.py\", line 67, in error_handler  **\n        raise e.with_traceback(filtered_tb) from None\n    File \"/usr/local/lib/python3.7/dist-packages/shap/explainers/_deep/deep_tf.py\", line 378, in custom_grad\n        out = op_handlers[type_name](self, op, *grads) # we cut off the shap_ prefex before the lookup\n    File \"/usr/local/lib/python3.7/dist-packages/shap/explainers/_deep/deep_tf.py\", line 667, in handler\n        return linearity_with_excluded_handler(input_inds, explainer, op, *grads)\n    File \"/usr/local/lib/python3.7/dist-packages/shap/explainers/_deep/deep_tf.py\", line 674, in linearity_with_excluded_handler\n        assert not explainer._variable_inputs(op)[i], str(i) + \"th input to \" + op.name + \" cannot vary!\"\n    File \"/usr/local/lib/python3.7/dist-packages/shap/explainers/_deep/deep_tf.py\", line 224, in _variable_inputs\n        out[i] = t.name in self.between_tensors\n\n    AttributeError: Exception encountered when calling layer \"lstm\" (type LSTM).\n    \n    'TFDeep' object has no attribute 'between_tensors'\n    \n    Call arguments received:\n      • inputs=tf.Tensor(shape=(420, 17, 138), dtype=float32)\n      • mask=None\n      • training=False\n      • initial_state=None\n"
          ]
        }
      ]
    },
    {
      "cell_type": "code",
      "source": [
        ""
      ],
      "metadata": {
        "id": "AIhhNBDQCaT6"
      },
      "execution_count": null,
      "outputs": []
    },
    {
      "cell_type": "code",
      "source": [
        ""
      ],
      "metadata": {
        "id": "UJgO4J9yCaQ3"
      },
      "execution_count": null,
      "outputs": []
    },
    {
      "cell_type": "markdown",
      "source": [
        "1. Is the normalization correct or any other method used?\n",
        "2. -1 to 1 = 17 timesteps how to partition next timsteps for time series classification?\n",
        "3. max and min values vary for each sample is this expected or there are any outliers.\n",
        "4. lstm gives good generalization and accuracy but will test for all other data as well.\n",
        "*next steps:*\n",
        "1. To see if all rats have same feature representation if yes can train model with all samples available\n",
        "2. Work on time series prediction model"
      ],
      "metadata": {
        "id": "r_LdxLcp7_Rl"
      }
    },
    {
      "cell_type": "markdown",
      "source": [
        "## model creation for r[2]"
      ],
      "metadata": {
        "id": "tVIsNjE5FOIB"
      }
    },
    {
      "cell_type": "code",
      "source": [
        "def create_model(inp_shape):\n",
        "  input_shape = inp_shape #17 timestamps and n features\n",
        "  model = Sequential()\n",
        "  model.add(LSTM(12,input_shape = input_shape))\n",
        "  model.add(Dense(8,activation = 'tanh'))\n",
        "  model.add(Dense(3,activation = 'softmax'))\n",
        "  print(model.summary())\n",
        "  return model\n",
        "  "
      ],
      "metadata": {
        "id": "9-26XBzUFVd-"
      },
      "execution_count": null,
      "outputs": []
    },
    {
      "cell_type": "markdown",
      "source": [
        "# Extras"
      ],
      "metadata": {
        "id": "CSWSGMU-HFhH"
      }
    },
    {
      "cell_type": "code",
      "source": [
        "#create new dataset by combining all experiments for each animal\n",
        "def create_new(r):\n",
        "  new_r = []\n",
        "  for i,exp in enumerate(r):\n",
        "    #print(\"experiment {} with shape\".format(i),exp.shape)\n",
        "    for j,trail in enumerate(exp):\n",
        "      #print(\"trail {}\".format(j), trail.shape)\n",
        "      time = list(range(1,18))\n",
        "      for k,neuron in enumerate(trail):\n",
        "        x = neuron[8:25] #taking values from -1 to 1 sec using tsamples array\n",
        "        #adding experiment type as categorical variable at the end \n",
        "        x = np.append(x,[i])\n",
        "        new_r.append(x)\n",
        "  #print(len(new_r))\n",
        "  return np.array(new_r)"
      ],
      "metadata": {
        "id": "nM1BfniaV5PQ"
      },
      "execution_count": null,
      "outputs": []
    },
    {
      "cell_type": "code",
      "source": [
        "new_r1,y = create_new(r1)\n",
        "print(new_r1.shape)\n",
        "changed_axis = np.transpose(new_r1,axes = [0,2,1])\n",
        "print(changed_axis.shape)"
      ],
      "metadata": {
        "colab": {
          "base_uri": "https://localhost:8080/"
        },
        "id": "v-XBZIdwWpFO",
        "outputId": "dfb1d140-dab6-4b59-cd86-626db74d46bb"
      },
      "execution_count": null,
      "outputs": [
        {
          "output_type": "stream",
          "name": "stdout",
          "text": [
            "(263, 138, 17)\n",
            "(263, 17, 138)\n"
          ]
        }
      ]
    },
    {
      "cell_type": "code",
      "source": [
        "new_v,new_a,new_g = np.zeros(shape= (78,17,138)),np.zeros(shape= (78,17,138)),np.zeros(shape= (78,17,138))\n",
        "y = [0 for i in range(new_v.shape[0])] + [1 for i in range(new_a.shape[0])] + [2 for i in range(new_g.shape[0])]\n",
        "print(len(y))\n",
        "print(y[77])"
      ],
      "metadata": {
        "colab": {
          "base_uri": "https://localhost:8080/"
        },
        "id": "dSqNEYJ5Ekpd",
        "outputId": "4b52ffa8-2f85-4ee0-e2be-f96e1ad46aed"
      },
      "execution_count": null,
      "outputs": [
        {
          "output_type": "stream",
          "name": "stdout",
          "text": [
            "234\n",
            "0\n"
          ]
        }
      ]
    },
    {
      "cell_type": "code",
      "source": [
        "normalized = tf.keras.layers.Normalization(axis = None)\n",
        "normalized.adapt(X)\n",
        "norm_x = normalized(X)\n",
        "print(norm_x.shape)"
      ],
      "metadata": {
        "id": "8J-XpKec3EEo",
        "colab": {
          "base_uri": "https://localhost:8080/"
        },
        "outputId": "acdd3332-6757-45b2-d830-f2f0e45c80a4"
      },
      "execution_count": null,
      "outputs": [
        {
          "output_type": "stream",
          "name": "stdout",
          "text": [
            "(261, 17, 138)\n"
          ]
        }
      ]
    }
  ]
}